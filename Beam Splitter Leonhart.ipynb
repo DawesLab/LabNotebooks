{
 "cells": [
  {
   "cell_type": "markdown",
   "metadata": {},
   "source": [
    "# Beam Splitter QM\n",
    "## AMCDawes\n",
    "Based on paper (and book) by Ulf Leonhardt\n",
    "arXiv:quant-ph/0305007v2 4 Jul 2003\n",
    "Some cells refer to equation numbers. Those are from this paper"
   ]
  },
  {
   "cell_type": "code",
   "execution_count": 2,
   "metadata": {
    "collapsed": false
   },
   "outputs": [],
   "source": [
    "from qutip import *\n",
    "from numpy import sqrt, pi, cos, sin, exp, array\n",
    "from numpy import math\n",
    "factorial = math.factorial"
   ]
  },
  {
   "cell_type": "markdown",
   "metadata": {},
   "source": [
    "Define the anihilation operators for photons 1 and 2, and the quantum Stokes parameters:"
   ]
  },
  {
   "cell_type": "code",
   "execution_count": 3,
   "metadata": {
    "collapsed": true
   },
   "outputs": [],
   "source": [
    "# define max dimension, enlarge as needed\n",
    "N = 10\n",
    "a1 = tensor(destroy(N),identity(N))\n",
    "a2 = tensor(identity(N),destroy(N))\n",
    "\n",
    "# eqn 4.6:\n",
    "Lt = 1/2*(a1.dag()*a1 + a2.dag()*a2)\n",
    "Lx = 1/2*(a1.dag()*a2 + a2.dag()*a1)\n",
    "Ly = 1j/2*(a2.dag()*a1 - a1.dag()*a2)\n",
    "Lz = 1/2*(a1.dag()*a1 - a2.dag()*a2)"
   ]
  },
  {
   "cell_type": "code",
   "execution_count": 5,
   "metadata": {
    "collapsed": false
   },
   "outputs": [],
   "source": [
    "# the number operators, just to have:\n",
    "n1 = a1.dag()*a1\n",
    "n2 = a2.dag()*a2\n",
    "# Note, can use this approach or form a tensor with n and identity."
   ]
  },
  {
   "cell_type": "code",
   "execution_count": 6,
   "metadata": {
    "collapsed": true
   },
   "outputs": [],
   "source": [
    "def tp(n,m):\n",
    "    \"\"\"Create a two photon state |n,m>\n",
    "    implemented using QuTiP tensor\"\"\"\n",
    "    return tensor(fock(N,n),fock(N,m))"
   ]
  },
  {
   "cell_type": "code",
   "execution_count": 7,
   "metadata": {
    "collapsed": true
   },
   "outputs": [],
   "source": [
    "def Bmatrix(Φ,Θ,Ψ,Λ):\n",
    "    \"\"\"This is the classical matrix given in 4.4\"\"\"\n",
    "    a = exp(1j*Λ/2)\n",
    "    b = array([[exp(1j*Ψ/2),0],[0,exp(-1j*Ψ/2)]])\n",
    "    c = array([[cos(Θ/2),sin(Θ/2)],[-sin(Θ/2),cos(Θ/2)]])\n",
    "    d = array([[exp(1j*Φ/2),0],[0,exp(-1j*Φ/2)]])\n",
    "    return a * b @ c @ d"
   ]
  },
  {
   "cell_type": "code",
   "execution_count": 9,
   "metadata": {
    "collapsed": false
   },
   "outputs": [
    {
     "data": {
      "text/plain": [
       "array([[ 0.70710678+0.j,  0.70710678+0.j],\n",
       "       [-0.70710678+0.j,  0.70710678+0.j]])"
      ]
     },
     "execution_count": 9,
     "metadata": {},
     "output_type": "execute_result"
    }
   ],
   "source": [
    "# Generate the perfect 50/50 BS as inm 4.23\n",
    "Bmatrix(0,pi/2,0,0)"
   ]
  },
  {
   "cell_type": "code",
   "execution_count": 10,
   "metadata": {
    "collapsed": false
   },
   "outputs": [],
   "source": [
    "def B(Φ,Θ,Ψ,Λ):\n",
    "    \"\"\"Create the B operator 4.12\"\"\"\n",
    "    B = (-1j*Φ*Lz).expm() * (-1j*Θ*Ly).expm() * (-1j*Ψ*Lx).expm() * (-1j*Λ*Lt).expm()\n",
    "    return B"
   ]
  },
  {
   "cell_type": "code",
   "execution_count": 11,
   "metadata": {
    "collapsed": false
   },
   "outputs": [],
   "source": [
    "# The B operator for a 50/50 BS\n",
    "bs = B(0,pi/2,0,0) "
   ]
  },
  {
   "cell_type": "code",
   "execution_count": 12,
   "metadata": {
    "collapsed": false
   },
   "outputs": [],
   "source": [
    "# Apply it to a |1,1> input state, a la Hong, Ou, Mandel:\n",
    "out = bs.dag() * tp(1,1)"
   ]
  },
  {
   "cell_type": "code",
   "execution_count": 15,
   "metadata": {
    "collapsed": false
   },
   "outputs": [],
   "source": [
    "# Compare to the example expression from Ulf in 4.24 line 1:\n",
    "out1 = 1/2 * (a1.dag() - a2.dag()) * (a1.dag() + a2.dag()) * tp(0,0)"
   ]
  },
  {
   "cell_type": "code",
   "execution_count": 16,
   "metadata": {
    "collapsed": false
   },
   "outputs": [],
   "source": [
    "# the right answer in any case (4.24 line 2)\n",
    "testout = (1/sqrt(2)*(tp(2,0) - tp(0,2)))"
   ]
  },
  {
   "cell_type": "code",
   "execution_count": 17,
   "metadata": {
    "collapsed": false
   },
   "outputs": [
    {
     "data": {
      "text/plain": [
       "True"
      ]
     },
     "execution_count": 17,
     "metadata": {},
     "output_type": "execute_result"
    }
   ],
   "source": [
    "testout == out1 == out"
   ]
  },
  {
   "cell_type": "markdown",
   "metadata": {},
   "source": [
    "These all agree: so far so good."
   ]
  },
  {
   "cell_type": "code",
   "execution_count": null,
   "metadata": {
    "collapsed": true
   },
   "outputs": [],
   "source": []
  }
 ],
 "metadata": {
  "kernelspec": {
   "display_name": "Python 3",
   "language": "python",
   "name": "python3"
  },
  "language_info": {
   "codemirror_mode": {
    "name": "ipython",
    "version": 3
   },
   "file_extension": ".py",
   "mimetype": "text/x-python",
   "name": "python",
   "nbconvert_exporter": "python",
   "pygments_lexer": "ipython3",
   "version": "3.5.1"
  }
 },
 "nbformat": 4,
 "nbformat_minor": 0
}
