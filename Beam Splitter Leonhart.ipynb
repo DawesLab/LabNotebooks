{
  "cells": [
    {
      "cell_type": "markdown",
      "source": [
        "# Beam Splitter QM\n",
        "## AMCDawes\n",
        "Based on paper (and book) by Ulf Leonhardt\n",
        "\n",
        "arXiv:quant-ph/0305007v2 4 Jul 2003\n",
        "\nSome cells refer to equation numbers from this paper."
      ],
      "metadata": {}
    },
    {
      "cell_type": "code",
      "source": [
        "from qutip import *\n",
        "from numpy import sqrt, pi, cos, sin, exp, array, real, imag, linspace\n",
        "from numpy import math\n",
        "factorial = math.factorial\n",
        "import matplotlib.pyplot as plt\n",
        "%matplotlib inline"
      ],
      "outputs": [],
      "execution_count": 101,
      "metadata": {
        "collapsed": false
      }
    },
    {
      "cell_type": "markdown",
      "source": [
        "Define the anihilation operators for photons 1 and 2, and the quantum Stokes parameters:"
      ],
      "metadata": {}
    },
    {
      "cell_type": "code",
      "source": [
        "# define max dimension, enlarge as needed\n",
        "N = 7\n",
        "a1 = tensor(destroy(N),identity(N))\n",
        "a2 = tensor(identity(N),destroy(N))\n",
        "\n",
        "# quantum Stokes, eqn 4.6:\n",
        "Lt = 1/2*(a1.dag()*a1 + a2.dag()*a2)\n",
        "Lx = 1/2*(a1.dag()*a2 + a2.dag()*a1)\n",
        "Ly = 1j/2*(a2.dag()*a1 - a1.dag()*a2)\n",
        "Lz = 1/2*(a1.dag()*a1 - a2.dag()*a2)"
      ],
      "outputs": [],
      "execution_count": 30,
      "metadata": {
        "collapsed": true
      }
    },
    {
      "cell_type": "code",
      "source": [
        "# the number operators, just to have:\n",
        "n1 = a1.dag()*a1\n",
        "n2 = a2.dag()*a2\n",
        "# Note, can use this approach or form a tensor with n and identity."
      ],
      "outputs": [],
      "execution_count": 31,
      "metadata": {
        "collapsed": false
      }
    },
    {
      "cell_type": "code",
      "source": [
        "def tp(n,m):\n",
        "    \"\"\"Create a two photon ket state |n,m>\n",
        "    implemented using QuTiP tensor\"\"\"\n",
        "    return tensor(fock(N,n),fock(N,m))"
      ],
      "outputs": [],
      "execution_count": 32,
      "metadata": {
        "collapsed": true
      }
    },
    {
      "cell_type": "code",
      "source": [
        "def Bmatrix(Φ,Θ,Ψ,Λ):\n",
        "    \"\"\"This is the classical matrix given in 4.4, mainly to confirm parameter choice\"\"\"\n",
        "    a = exp(1j*Λ/2)\n",
        "    b = array([[exp(1j*Ψ/2),0],[0,exp(-1j*Ψ/2)]])\n",
        "    c = array([[cos(Θ/2),sin(Θ/2)],[-sin(Θ/2),cos(Θ/2)]])\n",
        "    d = array([[exp(1j*Φ/2),0],[0,exp(-1j*Φ/2)]])\n",
        "    return a * b @ c @ d"
      ],
      "outputs": [],
      "execution_count": 33,
      "metadata": {
        "collapsed": true
      }
    },
    {
      "cell_type": "code",
      "source": [
        "# Generate the perfect 50/50 BS as inm 4.23\n",
        "# to check the angles:\n",
        "Bmatrix(0,pi/2,0,0)"
      ],
      "outputs": [
        {
          "output_type": "execute_result",
          "execution_count": 34,
          "data": {
            "text/plain": [
              "array([[ 0.70710678+0.j,  0.70710678+0.j],\n",
              "       [-0.70710678+0.j,  0.70710678+0.j]])"
            ]
          },
          "metadata": {}
        }
      ],
      "execution_count": 34,
      "metadata": {
        "collapsed": false
      }
    },
    {
      "cell_type": "code",
      "source": [
        "def B(Φ,Θ,Ψ,Λ):\n",
        "    \"\"\"Create the B operator given in 4.12\"\"\"\n",
        "    B = (-1j*Φ*Lz).expm() * (-1j*Θ*Ly).expm() * (-1j*Ψ*Lx).expm() * (-1j*Λ*Lt).expm()\n",
        "    return B"
      ],
      "outputs": [],
      "execution_count": 35,
      "metadata": {
        "collapsed": false
      }
    },
    {
      "cell_type": "code",
      "source": [
        "# The B operator for a 50/50 BS\n",
        "bs = B(0,pi/2,0,0) "
      ],
      "outputs": [],
      "execution_count": 36,
      "metadata": {
        "collapsed": false
      }
    },
    {
      "cell_type": "code",
      "source": [
        "# Apply it to a |1,1> input state, a la Hong, Ou, Mandel:\n",
        "out = bs.dag() * tp(1,1)"
      ],
      "outputs": [],
      "execution_count": 37,
      "metadata": {
        "collapsed": false
      }
    },
    {
      "cell_type": "code",
      "source": [
        "# Compare to the example expression from Ulf in 4.24 line 1:\n",
        "out1 = 1/2 * (a1.dag() - a2.dag()) * (a1.dag() + a2.dag()) * tp(0,0)"
      ],
      "outputs": [],
      "execution_count": 38,
      "metadata": {
        "collapsed": false
      }
    },
    {
      "cell_type": "code",
      "source": [
        "# the right answer in any case (4.24 line 2)\n",
        "testout = (1/sqrt(2)*(tp(2,0) - tp(0,2)))"
      ],
      "outputs": [],
      "execution_count": 39,
      "metadata": {
        "collapsed": false
      }
    },
    {
      "cell_type": "code",
      "source": [
        "testout == out1 == out"
      ],
      "outputs": [
        {
          "output_type": "execute_result",
          "execution_count": 40,
          "data": {
            "text/plain": [
              "True"
            ]
          },
          "metadata": {}
        }
      ],
      "execution_count": 40,
      "metadata": {
        "collapsed": false
      }
    },
    {
      "cell_type": "markdown",
      "source": [
        "These all agree: so far so good.\n",
        "\nNext, try a single photon input:"
      ],
      "metadata": {}
    },
    {
      "cell_type": "code",
      "source": [
        "psi1 = bs.dag() * tp(1,0)"
      ],
      "outputs": [],
      "execution_count": 116,
      "metadata": {
        "collapsed": true
      }
    },
    {
      "cell_type": "code",
      "source": [
        "psi1 == (1/sqrt(2)*(tp(1,0) - tp(0,1))) ## sanity check"
      ],
      "outputs": [
        {
          "output_type": "execute_result",
          "execution_count": 117,
          "data": {
            "text/plain": [
              "True"
            ]
          },
          "metadata": {}
        }
      ],
      "execution_count": 117,
      "metadata": {
        "collapsed": false
      }
    },
    {
      "cell_type": "markdown",
      "source": [
        "Note: this is different from van Enk (NotesBS.pdf) by the sign and a factor of i. It agrees with several other papers in the reference folder. TODO: sort this out.\n",
        "\nNow to let the outputs interfere again after a phase shift in path 2:"
      ],
      "metadata": {}
    },
    {
      "cell_type": "code",
      "source": [
        "def phaseshifter(phi):\n",
        "    \"\"\" I believe this shifts one arm by phi \n",
        "    doesn't seem to be working though\"\"\"\n",
        "    shifter = tensor(identity(N),exp(1j*phi)*identity(N))\n",
        "    return shifter"
      ],
      "outputs": [],
      "execution_count": 125,
      "metadata": {
        "collapsed": false
      }
    },
    {
      "cell_type": "code",
      "source": [
        "def stateplot(state):\n",
        "    plt.plot(real(state.full()),\"bo\")\n",
        "    plt.plot(imag(state.full()),\"ro\")"
      ],
      "outputs": [],
      "execution_count": 138,
      "metadata": {
        "collapsed": false
      }
    },
    {
      "cell_type": "code",
      "source": [
        "philist = linspace(0,2*pi,20)"
      ],
      "outputs": [],
      "execution_count": 149,
      "metadata": {
        "collapsed": true
      }
    },
    {
      "cell_type": "code",
      "source": [
        "input2 = [phaseshifter(pi/8)*psi1 for phi in philist]\n",
        "out2 = bs.dag() * input2\n",
        "plt.plot(philist,expect(n1,out2),label=\"$n_1$\")\n",
        "plt.plot(philist,expect(n2,out2),label=\"$n_2$\")\n",
        "plt.legend()"
      ],
      "outputs": [
        {
          "output_type": "execute_result",
          "execution_count": 151,
          "data": {
            "text/plain": [
              "<matplotlib.legend.Legend at 0x1164ab6a0>"
            ]
          },
          "metadata": {}
        },
        {
          "output_type": "display_data",
          "data": {
            "image/png": "[encoded data removed]",
            "text/plain": [
              "<matplotlib.figure.Figure at 0x116204898>"
            ]
          },
          "metadata": {}
        }
      ],
      "execution_count": 151,
      "metadata": {
        "collapsed": false
      }
    },
    {
      "cell_type": "code",
      "source": [
        "stateplot(test3[6])"
      ],
      "outputs": [
        {
          "output_type": "display_data",
          "data": {
            "image/png": "[encoded data removed]",
            "text/plain": [
              "<matplotlib.figure.Figure at 0x11624d780>"
            ]
          },
          "metadata": {}
        }
      ],
      "execution_count": 148,
      "metadata": {
        "collapsed": false
      }
    },
    {
      "cell_type": "code",
      "source": [
        "expect(n2,out2)"
      ],
      "outputs": [
        {
          "output_type": "execute_result",
          "execution_count": 127,
          "data": {
            "text/plain": [
              "1.0"
            ]
          },
          "metadata": {}
        }
      ],
      "execution_count": 127,
      "metadata": {
        "collapsed": false
      }
    },
    {
      "cell_type": "code",
      "source": [
        "expect(n1,out2)"
      ],
      "outputs": [
        {
          "output_type": "execute_result",
          "execution_count": 128,
          "data": {
            "text/plain": [
              "0.0"
            ]
          },
          "metadata": {}
        }
      ],
      "execution_count": 128,
      "metadata": {
        "collapsed": false
      }
    },
    {
      "cell_type": "code",
      "source": [
        "stateplot(psi3[0])"
      ],
      "outputs": [
        {
          "output_type": "display_data",
          "data": {
            "image/png": "[encoded data removed]",
            "text/plain": [
              "<matplotlib.figure.Figure at 0x115da37f0>"
            ]
          },
          "metadata": {}
        }
      ],
      "execution_count": 141,
      "metadata": {
        "collapsed": false
      }
    },
    {
      "cell_type": "code",
      "source": [
        "# Explore the phase-shifted version of the 1 photon output by hard-coding the state\n",
        "\n",
        "psi3 = [1/sqrt(2)*(exp(1j*phi)*tp(0,1) + tp(1,0)) for phi in philist]\n",
        "test3 = bs.dag()*psi3\n",
        "plt.plot(philist,expect(n1,test3),label=\"$n_1$\")\n",
        "plt.plot(philist,expect(n2,test3),label=\"$n_2$\")\n",
        "plt.legend()"
      ],
      "outputs": [
        {
          "output_type": "execute_result",
          "execution_count": 129,
          "data": {
            "text/plain": [
              "<matplotlib.legend.Legend at 0x1157aaf60>"
            ]
          },
          "metadata": {}
        },
        {
          "output_type": "display_data",
          "data": {
            "image/png": "[encoded data removed]",
            "text/plain": [
              "<matplotlib.figure.Figure at 0x115442898>"
            ]
          },
          "metadata": {}
        }
      ],
      "execution_count": 129,
      "metadata": {
        "collapsed": false
      }
    },
    {
      "cell_type": "code",
      "source": [
        "(tp(1,0)).full()"
      ],
      "outputs": [
        {
          "output_type": "execute_result",
          "execution_count": 174,
          "data": {
            "text/plain": [
              "array([[ 0.+0.j],\n",
              "       [ 0.+0.j],\n",
              "       [ 0.+0.j],\n",
              "       [ 0.+0.j],\n",
              "       [ 0.+0.j],\n",
              "       [ 0.+0.j],\n",
              "       [ 0.+0.j],\n",
              "       [ 1.+0.j],\n",
              "       [ 0.+0.j],\n",
              "       [ 0.+0.j],\n",
              "       [ 0.+0.j],\n",
              "       [ 0.+0.j],\n",
              "       [ 0.+0.j],\n",
              "       [ 0.+0.j],\n",
              "       [ 0.+0.j],\n",
              "       [ 0.+0.j],\n",
              "       [ 0.+0.j],\n",
              "       [ 0.+0.j],\n",
              "       [ 0.+0.j],\n",
              "       [ 0.+0.j],\n",
              "       [ 0.+0.j],\n",
              "       [ 0.+0.j],\n",
              "       [ 0.+0.j],\n",
              "       [ 0.+0.j],\n",
              "       [ 0.+0.j],\n",
              "       [ 0.+0.j],\n",
              "       [ 0.+0.j],\n",
              "       [ 0.+0.j],\n",
              "       [ 0.+0.j],\n",
              "       [ 0.+0.j],\n",
              "       [ 0.+0.j],\n",
              "       [ 0.+0.j],\n",
              "       [ 0.+0.j],\n",
              "       [ 0.+0.j],\n",
              "       [ 0.+0.j],\n",
              "       [ 0.+0.j],\n",
              "       [ 0.+0.j],\n",
              "       [ 0.+0.j],\n",
              "       [ 0.+0.j],\n",
              "       [ 0.+0.j],\n",
              "       [ 0.+0.j],\n",
              "       [ 0.+0.j],\n",
              "       [ 0.+0.j],\n",
              "       [ 0.+0.j],\n",
              "       [ 0.+0.j],\n",
              "       [ 0.+0.j],\n",
              "       [ 0.+0.j],\n",
              "       [ 0.+0.j],\n",
              "       [ 0.+0.j]])"
            ]
          },
          "metadata": {}
        }
      ],
      "execution_count": 174,
      "metadata": {
        "collapsed": false
      }
    },
    {
      "cell_type": "code",
      "source": [],
      "outputs": [],
      "execution_count": null,
      "metadata": {
        "collapsed": true
      }
    }
  ],
  "metadata": {
    "kernelspec": {
      "name": "python3",
      "language": "python",
      "display_name": "Python 3"
    },
    "language_info": {
      "name": "python",
      "version": "3.6.3",
      "mimetype": "text/x-python",
      "codemirror_mode": {
        "name": "ipython",
        "version": 3
      },
      "pygments_lexer": "ipython3",
      "nbconvert_exporter": "python",
      "file_extension": ".py"
    },
    "kernel_info": {
      "name": "python3"
    },
    "nteract": {
      "version": "0.7.1"
    }
  },
  "nbformat": 4,
  "nbformat_minor": 0
}