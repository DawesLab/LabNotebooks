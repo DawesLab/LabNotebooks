{
  "cells": [
    {
      "cell_type": "code",
      "source": [
        "from qutip import *\n",
        "from numpy import sqrt\n",
        "from numpy import math\n",
        "factorial = math.factorial"
      ],
      "outputs": [],
      "execution_count": 2,
      "metadata": {
        "collapsed": false
      }
    },
    {
      "cell_type": "code",
      "source": [
        "# from van Enk NotesBS.pdf\n",
        "N = 5  # use a 5-dim space for now, enlarge as needed\n",
        "a1 = tensor(destroy(N),qeye(N))  # a1 acts on photon 1\n",
        "a2 = tensor(qeye(N),destroy(N))  # a2 acts on photon 2\n",
        "a3 = (a1 + 1j*a2)/sqrt(2)  # output a3\n",
        "a4 = (1j*a1 + a2)/sqrt(2)  # output a4"
      ],
      "outputs": [],
      "execution_count": 3,
      "metadata": {
        "collapsed": false
      }
    },
    {
      "cell_type": "code",
      "source": [
        "def input(n,m,N):\n",
        "    an = a1.dag()\n",
        "    am = a2.dag()\n",
        "    psi_in = 1/sqrt(factorial(n)) * (an**n) * 1/sqrt(factorial(m)) * (am**m) * tensor(basis(N,0),basis(N,0))\n",
        "    return psi_in.unit()"
      ],
      "outputs": [],
      "execution_count": 4,
      "metadata": {
        "collapsed": true
      }
    },
    {
      "cell_type": "code",
      "source": [
        "input(0,1,N)"
      ],
      "outputs": [
        {
          "output_type": "execute_result",
          "execution_count": 5,
          "data": {
            "text/latex": [
              "Quantum object: dims = [[5, 5], [1, 1]], shape = [25, 1], type = ket\\begin{equation*}\\left(\\begin{array}{*{11}c}0.0\\\\1.0\\\\0.0\\\\0.0\\\\0.0\\\\\\vdots\\\\0.0\\\\0.0\\\\0.0\\\\0.0\\\\0.0\\\\\\end{array}\\right)\\end{equation*}"
            ],
            "text/plain": [
              "Quantum object: dims = [[5, 5], [1, 1]], shape = [25, 1], type = ket\n",
              "Qobj data =\n",
              "[[ 0.]\n",
              " [ 1.]\n",
              " [ 0.]\n",
              " [ 0.]\n",
              " [ 0.]\n",
              " [ 0.]\n",
              " [ 0.]\n",
              " [ 0.]\n",
              " [ 0.]\n",
              " [ 0.]\n",
              " [ 0.]\n",
              " [ 0.]\n",
              " [ 0.]\n",
              " [ 0.]\n",
              " [ 0.]\n",
              " [ 0.]\n",
              " [ 0.]\n",
              " [ 0.]\n",
              " [ 0.]\n",
              " [ 0.]\n",
              " [ 0.]\n",
              " [ 0.]\n",
              " [ 0.]\n",
              " [ 0.]\n",
              " [ 0.]]"
            ]
          },
          "metadata": {}
        }
      ],
      "execution_count": 5,
      "metadata": {
        "collapsed": false
      }
    },
    {
      "cell_type": "code",
      "source": [
        "a3 = tensor(destroy(N),identity(N))\n",
        "a4 = tensor(identity(N),destroy(N))"
      ],
      "outputs": [],
      "execution_count": 131,
      "metadata": {
        "collapsed": true
      }
    },
    {
      "cell_type": "code",
      "source": [
        "def output(n,m,N):\n",
        "    \"\"\"Based on van Enk, NotesBS.pdf point 19\"\"\"\n",
        "    an = (a3.dag() + 1j*a4.dag())/sqrt(2)\n",
        "    am = (1j*a3.dag() + a4.dag())/sqrt(2)\n",
        "    psi_out = 1/sqrt(factorial(n)) * (an**n) * 1/sqrt(factorial(m)) * (am**m) * tensor(basis(N,0),basis(N,0))\n",
        "    return psi_out"
      ],
      "outputs": [],
      "execution_count": 132,
      "metadata": {
        "collapsed": false
      }
    },
    {
      "cell_type": "code",
      "source": [
        "psi01 = 1/sqrt(2)*(1j*tensor(basis(N,1),basis(N,0)) + tensor(basis(N,0),basis(N,1)))"
      ],
      "outputs": [],
      "execution_count": 133,
      "metadata": {
        "collapsed": false
      }
    },
    {
      "cell_type": "code",
      "source": [
        "psi01 == output(0,1,N)"
      ],
      "outputs": [
        {
          "output_type": "execute_result",
          "execution_count": 134,
          "data": {
            "text/plain": [
              "True"
            ]
          },
          "metadata": {}
        }
      ],
      "execution_count": 134,
      "metadata": {
        "collapsed": false
      }
    },
    {
      "cell_type": "code",
      "source": [
        "psi11 = 1/sqrt(2)*(-1j*tensor(basis(N,2),basis(N,0)) - 1j*tensor(basis(N,0),basis(N,2)))"
      ],
      "outputs": [],
      "execution_count": 135,
      "metadata": {
        "collapsed": true
      }
    },
    {
      "cell_type": "markdown",
      "source": [
        "Oddly, this isn't right yet, but it's off by a sign error:"
      ],
      "metadata": {}
    },
    {
      "cell_type": "code",
      "source": [
        "psi11 == -output(1,1,N)"
      ],
      "outputs": [
        {
          "output_type": "execute_result",
          "execution_count": 160,
          "data": {
            "text/plain": [
              "True"
            ]
          },
          "metadata": {}
        }
      ],
      "execution_count": 160,
      "metadata": {
        "collapsed": false
      }
    },
    {
      "cell_type": "code",
      "source": [
        "test = 1/2 * (a3.dag() + 1j*a4.dag()) * (1j*a3.dag() + a4.dag()) * tensor(basis(N,0),basis(N,0))\n",
        "test.full"
      ],
      "outputs": [
        {
          "output_type": "execute_result",
          "execution_count": 163,
          "data": {
            "text/plain": [
              "<bound method Qobj.full of Quantum object: dims = [[5, 5], [1, 1]], shape = [25, 1], type = ket\n",
              "Qobj data =\n",
              "[[ 0.+0.j        ]\n",
              " [ 0.+0.j        ]\n",
              " [ 0.+0.70710678j]\n",
              " [ 0.+0.j        ]\n",
              " [ 0.+0.j        ]\n",
              " [ 0.+0.j        ]\n",
              " [ 0.+0.j        ]\n",
              " [ 0.+0.j        ]\n",
              " [ 0.+0.j        ]\n",
              " [ 0.+0.j        ]\n",
              " [ 0.+0.70710678j]\n",
              " [ 0.+0.j        ]\n",
              " [ 0.+0.j        ]\n",
              " [ 0.+0.j        ]\n",
              " [ 0.+0.j        ]\n",
              " [ 0.+0.j        ]\n",
              " [ 0.+0.j        ]\n",
              " [ 0.+0.j        ]\n",
              " [ 0.+0.j        ]\n",
              " [ 0.+0.j        ]\n",
              " [ 0.+0.j        ]\n",
              " [ 0.+0.j        ]\n",
              " [ 0.+0.j        ]\n",
              " [ 0.+0.j        ]\n",
              " [ 0.+0.j        ]]>"
            ]
          },
          "metadata": {}
        }
      ],
      "execution_count": 163,
      "metadata": {
        "collapsed": false
      }
    },
    {
      "cell_type": "code",
      "source": [],
      "outputs": [],
      "execution_count": null,
      "metadata": {
        "collapsed": true
      }
    }
  ],
  "metadata": {
    "kernelspec": {
      "name": "python3",
      "language": "python",
      "display_name": "Python 3"
    },
    "language_info": {
      "name": "python",
      "version": "3.6.3",
      "mimetype": "text/x-python",
      "codemirror_mode": {
        "name": "ipython",
        "version": 3
      },
      "pygments_lexer": "ipython3",
      "nbconvert_exporter": "python",
      "file_extension": ".py"
    },
    "kernel_info": {
      "name": "python3"
    },
    "nteract": {
      "version": "0.7.1"
    }
  },
  "nbformat": 4,
  "nbformat_minor": 0
}