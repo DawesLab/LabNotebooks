{
 "cells": [
  {
   "cell_type": "code",
   "execution_count": 128,
   "metadata": {
    "collapsed": false
   },
   "outputs": [],
   "source": [
    "from qutip import *\n",
    "from numpy import sqrt\n",
    "from numpy import math\n",
    "factorial = math.factorial"
   ]
  },
  {
   "cell_type": "code",
   "execution_count": 95,
   "metadata": {
    "collapsed": false
   },
   "outputs": [],
   "source": [
    "# This doesn't seem right:\n",
    "# a3 and a4 need to act on photon 3 and 4 not 1 and 2\n",
    "N = 5\n",
    "a1 = tensor(destroy(N),qeye(N))\n",
    "a2 = tensor(qeye(N),destroy(N))\n",
    "a3 = (a1 + 1j*a2)/sqrt(2)\n",
    "a4 = (1j*a1 + a2)/sqrt(2)"
   ]
  },
  {
   "cell_type": "code",
   "execution_count": 129,
   "metadata": {
    "collapsed": true
   },
   "outputs": [],
   "source": [
    "def input(n,m,N):\n",
    "    an = a1.dag()\n",
    "    am = a2.dag()\n",
    "    psi_in = 1/sqrt(factorial(n)) * (an**n) * 1/sqrt(factorial(m)) * (am**m) * tensor(basis(N,0),basis(N,0))\n",
    "    return psi_in.unit()"
   ]
  },
  {
   "cell_type": "code",
   "execution_count": 130,
   "metadata": {
    "collapsed": false
   },
   "outputs": [
    {
     "data": {
      "text/latex": [
       "Quantum object: dims = [[5, 5], [1, 1]], shape = [25, 1], type = ket\\begin{equation*}\\left(\\begin{array}{*{11}c}0.0\\\\1.0\\\\0.0\\\\0.0\\\\0.0\\\\\\vdots\\\\0.0\\\\0.0\\\\0.0\\\\0.0\\\\0.0\\\\\\end{array}\\right)\\end{equation*}"
      ],
      "text/plain": [
       "Quantum object: dims = [[5, 5], [1, 1]], shape = [25, 1], type = ket\n",
       "Qobj data =\n",
       "[[ 0.]\n",
       " [ 1.]\n",
       " [ 0.]\n",
       " [ 0.]\n",
       " [ 0.]\n",
       " [ 0.]\n",
       " [ 0.]\n",
       " [ 0.]\n",
       " [ 0.]\n",
       " [ 0.]\n",
       " [ 0.]\n",
       " [ 0.]\n",
       " [ 0.]\n",
       " [ 0.]\n",
       " [ 0.]\n",
       " [ 0.]\n",
       " [ 0.]\n",
       " [ 0.]\n",
       " [ 0.]\n",
       " [ 0.]\n",
       " [ 0.]\n",
       " [ 0.]\n",
       " [ 0.]\n",
       " [ 0.]\n",
       " [ 0.]]"
      ]
     },
     "execution_count": 130,
     "metadata": {},
     "output_type": "execute_result"
    }
   ],
   "source": [
    "input(0,1,N)"
   ]
  },
  {
   "cell_type": "code",
   "execution_count": 131,
   "metadata": {
    "collapsed": true
   },
   "outputs": [],
   "source": [
    "a3 = tensor(destroy(N),identity(N))\n",
    "a4 = tensor(identity(N),destroy(N))"
   ]
  },
  {
   "cell_type": "code",
   "execution_count": 132,
   "metadata": {
    "collapsed": false
   },
   "outputs": [],
   "source": [
    "def output(n,m,N):\n",
    "    an = (a3.dag() + 1j*a4.dag())/sqrt(2)\n",
    "    am = (1j*a3.dag() + a4.dag())/sqrt(2)\n",
    "    psi_out = 1/sqrt(factorial(n)) * (an**n) * 1/sqrt(factorial(m)) * (am**m) * tensor(basis(N,0),basis(N,0))\n",
    "    return psi_out"
   ]
  },
  {
   "cell_type": "code",
   "execution_count": 133,
   "metadata": {
    "collapsed": false
   },
   "outputs": [],
   "source": [
    "psi01 = 1/sqrt(2)*(1j*tensor(basis(N,1),basis(N,0)) + tensor(basis(N,0),basis(N,1)))"
   ]
  },
  {
   "cell_type": "code",
   "execution_count": 134,
   "metadata": {
    "collapsed": false
   },
   "outputs": [
    {
     "data": {
      "text/plain": [
       "True"
      ]
     },
     "execution_count": 134,
     "metadata": {},
     "output_type": "execute_result"
    }
   ],
   "source": [
    "psi01 == output(0,1,N)"
   ]
  },
  {
   "cell_type": "code",
   "execution_count": 135,
   "metadata": {
    "collapsed": true
   },
   "outputs": [],
   "source": [
    "psi11 = 1/sqrt(2)*(-1j*tensor(basis(N,2),basis(N,0)) - 1j*tensor(basis(N,0),basis(N,2)))"
   ]
  },
  {
   "cell_type": "markdown",
   "metadata": {},
   "source": [
    "Oddly, this isn't right yet, but it's off by a sign error:"
   ]
  },
  {
   "cell_type": "code",
   "execution_count": 160,
   "metadata": {
    "collapsed": false
   },
   "outputs": [
    {
     "data": {
      "text/plain": [
       "True"
      ]
     },
     "execution_count": 160,
     "metadata": {},
     "output_type": "execute_result"
    }
   ],
   "source": [
    "psi11 == -output(1,1,N)"
   ]
  },
  {
   "cell_type": "code",
   "execution_count": 163,
   "metadata": {
    "collapsed": false
   },
   "outputs": [
    {
     "data": {
      "text/plain": [
       "<bound method Qobj.full of Quantum object: dims = [[5, 5], [1, 1]], shape = [25, 1], type = ket\n",
       "Qobj data =\n",
       "[[ 0.+0.j        ]\n",
       " [ 0.+0.j        ]\n",
       " [ 0.+0.70710678j]\n",
       " [ 0.+0.j        ]\n",
       " [ 0.+0.j        ]\n",
       " [ 0.+0.j        ]\n",
       " [ 0.+0.j        ]\n",
       " [ 0.+0.j        ]\n",
       " [ 0.+0.j        ]\n",
       " [ 0.+0.j        ]\n",
       " [ 0.+0.70710678j]\n",
       " [ 0.+0.j        ]\n",
       " [ 0.+0.j        ]\n",
       " [ 0.+0.j        ]\n",
       " [ 0.+0.j        ]\n",
       " [ 0.+0.j        ]\n",
       " [ 0.+0.j        ]\n",
       " [ 0.+0.j        ]\n",
       " [ 0.+0.j        ]\n",
       " [ 0.+0.j        ]\n",
       " [ 0.+0.j        ]\n",
       " [ 0.+0.j        ]\n",
       " [ 0.+0.j        ]\n",
       " [ 0.+0.j        ]\n",
       " [ 0.+0.j        ]]>"
      ]
     },
     "execution_count": 163,
     "metadata": {},
     "output_type": "execute_result"
    }
   ],
   "source": [
    "test = 1/2 * (a3.dag() + 1j*a4.dag()) * (1j*a3.dag() + a4.dag()) * tensor(basis(N,0),basis(N,0))\n",
    "test.full"
   ]
  },
  {
   "cell_type": "code",
   "execution_count": null,
   "metadata": {
    "collapsed": true
   },
   "outputs": [],
   "source": []
  }
 ],
 "metadata": {
  "kernelspec": {
   "display_name": "Python 3",
   "language": "python",
   "name": "python3"
  },
  "language_info": {
   "codemirror_mode": {
    "name": "ipython",
    "version": 3
   },
   "file_extension": ".py",
   "mimetype": "text/x-python",
   "name": "python",
   "nbconvert_exporter": "python",
   "pygments_lexer": "ipython3",
   "version": "3.5.1"
  }
 },
 "nbformat": 4,
 "nbformat_minor": 0
}
