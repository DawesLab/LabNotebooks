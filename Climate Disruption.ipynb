{
 "cells": [
  {
   "cell_type": "markdown",
   "metadata": {},
   "source": [
    "# Climate Disruption\n",
    "## A crude energy-centric model\n",
    "1 C is not \"just a little warmer\" as most people think. The atmosphere is huge, and the additional energy stored within the atmosphere after that increase in temperature is **huge**. Let's measure it in terms of bolts of lightning, hurricanes, and other atmospheric energy events:"
   ]
  },
  {
   "cell_type": "code",
   "execution_count": 25,
   "metadata": {},
   "outputs": [],
   "source": [
    "M = 5.1480E18 # kg (from https://en.wikipedia.org/wiki/Atmosphere_of_Earth)\n",
    "cv = 0.716 # kJ/(kg*K) (from https://www.ohio.edu/mechanical/thermo/property_tables/air/air_Cp_Cv.html)"
   ]
  },
  {
   "cell_type": "code",
   "execution_count": 26,
   "metadata": {},
   "outputs": [],
   "source": [
    "dT = 1 # (the change in temp, degrees C or K)"
   ]
  },
  {
   "cell_type": "code",
   "execution_count": 27,
   "metadata": {},
   "outputs": [
    {
     "data": {
      "text/plain": [
       "3.685968e+21"
      ]
     },
     "execution_count": 27,
     "metadata": {},
     "output_type": "execute_result"
    }
   ],
   "source": [
    "dE = M*cv*dT\n",
    "netE = dE*1000 # in Joules\n",
    "netE"
   ]
  },
  {
   "cell_type": "code",
   "execution_count": 28,
   "metadata": {},
   "outputs": [],
   "source": [
    "Elightning = 1e9 # Joules (https://www.realclearscience.com/blog/2012/05/could-we-harness-lightning-as-an-energy-source.html)"
   ]
  },
  {
   "cell_type": "code",
   "execution_count": 29,
   "metadata": {},
   "outputs": [
    {
     "data": {
      "text/plain": [
       "3685968000000.0"
      ]
     },
     "execution_count": 29,
     "metadata": {},
     "output_type": "execute_result"
    }
   ],
   "source": [
    "new_lightning = netE / Elightning\n",
    "new_lightning"
   ]
  },
  {
   "cell_type": "code",
   "execution_count": 30,
   "metadata": {},
   "outputs": [
    {
     "data": {
      "text/plain": [
       "426.6166666666667"
      ]
     },
     "execution_count": 30,
     "metadata": {},
     "output_type": "execute_result"
    }
   ],
   "source": [
    "time = 10*24*60*60 # 4 days * hours * minutes * seconds\n",
    "Ehurricane = 1e13 * time # watts * seconds (http://www.aoml.noaa.gov/hrd/tcfaq/D7.html)\n",
    "new_hurricanes = netE / Ehurricane\n",
    "new_hurricanes"
   ]
  },
  {
   "cell_type": "markdown",
   "metadata": {},
   "source": [
    "TODO:\n",
    " - tornado energy\n",
    " - melting polar ice\n"
   ]
  },
  {
   "cell_type": "code",
   "execution_count": null,
   "metadata": {},
   "outputs": [],
   "source": []
  }
 ],
 "metadata": {
  "kernelspec": {
   "display_name": "Python 3",
   "language": "python",
   "name": "python3"
  },
  "language_info": {
   "codemirror_mode": {
    "name": "ipython",
    "version": 3
   },
   "file_extension": ".py",
   "mimetype": "text/x-python",
   "name": "python",
   "nbconvert_exporter": "python",
   "pygments_lexer": "ipython3",
   "version": "3.6.3"
  }
 },
 "nbformat": 4,
 "nbformat_minor": 2
}
