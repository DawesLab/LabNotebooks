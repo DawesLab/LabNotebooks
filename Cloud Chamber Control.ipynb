{
 "cells": [
  {
   "cell_type": "markdown",
   "id": "01fb42ae",
   "metadata": {},
   "source": [
    "This Lab python notebook is designed for the control of the cloud chamber servo motor which controls the flow of mist. This notebook should be run on a device physically connected to that arduino board."
   ]
  },
  {
   "cell_type": "code",
   "execution_count": null,
   "id": "d179367e",
   "metadata": {},
   "outputs": [],
   "source": [
    "#This code was modified from this github page, which has more info :\n",
    "# https://justinbois.github.io/bootcamp/2020/lessons/l39_serial.html"
   ]
  },
  {
   "cell_type": "code",
   "execution_count": null,
   "id": "81c647d8",
   "metadata": {},
   "outputs": [],
   "source": [
    "#cell for relevant imports\n",
    "import time\n",
    "import serial\n",
    "import serial.tools.list_ports\n",
    "import panel as pn\n",
    "pn.extension()"
   ]
  },
  {
   "cell_type": "markdown",
   "id": "9103125e",
   "metadata": {},
   "source": [
    "All commands to be sent to the board need to have an integer associated with them, so we can send the command as a byte."
   ]
  },
  {
   "cell_type": "code",
   "execution_count": null,
   "id": "ed24ed12",
   "metadata": {},
   "outputs": [],
   "source": [
    "#The meaning of these bytes sent to the board could be changed as needed\n",
    "#In general: wait -> There is a wait of some set time before taking the next command\n",
    "#airbrush_on-> moves servo to angle to press the airbrush trigger\n",
    "#airbrush_off-> similar to the last action, but in reverse\n",
    "\n",
    "WAIT= 1;\n",
    "AIRBRUSH_ON = 2;\n",
    "AIRBRUSH_OFF = 3;\n",
    "\n",
    "#combining a command for a one second wait, with the airbrush on and off commands\n",
    "#allows us to create loops and patterns of moisture addition "
   ]
  },
  {
   "cell_type": "code",
   "execution_count": null,
   "id": "0b674aed",
   "metadata": {},
   "outputs": [],
   "source": [
    "def find_arduino(port=None):\n",
    "    \"\"\"Get the name of the port that is connected to Arduino.\"\"\"\n",
    "    if port is None:\n",
    "        ports = serial.tools.list_ports.comports()\n",
    "        for p in ports:\n",
    "            \n",
    "            #I found this definition to find a port on github, I'm not sure if our board has different\n",
    "            #manufacturing, but that can be edited here\n",
    "            \n",
    "            if p.manufacturer is not None and \"Arduino\" in p.manufacturer:\n",
    "                port = p.device\n",
    "    return port\n",
    "\n",
    "port = find_arduino()\n",
    "#this sets the port to the arduino"
   ]
  },
  {
   "cell_type": "code",
   "execution_count": null,
   "id": "9d33d609",
   "metadata": {},
   "outputs": [],
   "source": [
    "# Open port\n",
    "arduino = serial.Serial(port, baudrate=115200, timeout=1)\n",
    "\n",
    "# Close and reopen\n",
    "arduino.close()\n",
    "arduino.open()\n",
    "\n",
    "\n",
    "def handshake_arduino(arduino, sleep_time=1):\n",
    "    \"\"\"Make sure connection is established by sending\n",
    "    and receiving bytes.\"\"\"\n",
    "    time.sleep(sleep_time);\n",
    "\n",
    "    # Set a long timeout to complete handshake\n",
    "    timeout = arduino.timeout\n",
    "    arduino.timeout = 2\n",
    "\n",
    "    # Send request to Arduino\n",
    "    arduino.write(bytes([1]))\n",
    "\n",
    "    # Wait for Arduino to respond\n",
    "    while (arduino.in_waiting < 0):\n",
    "        pass\n",
    "\n",
    "    # Read in which Arduino sent and ignore it\n",
    "    _ = arduino.read_until()\n",
    "\n",
    "    # Reset the timeout\n",
    "    arduino.timeout = timeout\n",
    "\n",
    "\n",
    "handshake_arduino(arduino)\n",
    "\n"
   ]
  },
  {
   "cell_type": "code",
   "execution_count": null,
   "id": "285db7cc",
   "metadata": {},
   "outputs": [],
   "source": []
  },
  {
   "cell_type": "code",
   "execution_count": null,
   "id": "fbff4981",
   "metadata": {},
   "outputs": [],
   "source": [
    "def open_arduino(port, baudrate=115200, timeout=1):\n",
    "    \"\"\"Open a connection with an Arduino device and\n",
    "    handshake to get ready for use.\"\"\"\n",
    "    # Open port\n",
    "    arduino = serial.Serial(port, baudrate=baudrate, timeout=timeout)\n",
    "\n",
    "    # Close and reopen\n",
    "    arduino.close()\n",
    "    arduino.open()\n",
    "\n",
    "    handshake_arduino(arduino)\n",
    "\n",
    "    return arduino"
   ]
  },
  {
   "cell_type": "code",
   "execution_count": null,
   "id": "06fc49bb",
   "metadata": {},
   "outputs": [],
   "source": [
    "arduino = open_arduino(port)"
   ]
  },
  {
   "cell_type": "markdown",
   "id": "1e1c5059",
   "metadata": {},
   "source": [
    "In order to create a toggle button for the values sent to the board, each toggle needs to be defined, (see examples below,) as well as a widget made in panels"
   ]
  },
  {
   "cell_type": "code",
   "execution_count": null,
   "id": "a0c97233",
   "metadata": {},
   "outputs": [],
   "source": [
    "def toggle_airbrush_live(event):\n",
    "    if event.new:\n",
    "        arduino.write(bytes([AIRBRUSH_ON]))\n",
    "    else:\n",
    "        arduino.write(bytes([AIRBRUSH_OFF]))\n",
    "        \n",
    "airbrush_toggle_live = pn.widgets.Toggle(\n",
    "    name=\"ADD CLOUD NOW\", value=False, button_type=\"primary\", width=100,\n",
    ")\n",
    "\n",
    "def toggle_airbrush_set(event):\n",
    "    if event.new:\n",
    "        arduino.write(bytes([AIRBRUSH_ON]))\n",
    "        #turns airbrush on\n",
    "        \n",
    "        for i in range(ab_time):\n",
    "            arduino.write(bytes([WAIT]))\n",
    "        #waits for set amount of time\n",
    "    \n",
    "        arduino.write(bytes([AIRBRUSH_OFF]))\n",
    "        #turns airbrush off after\n",
    "        \n",
    "airbrush_toggle_set = pn.widgets.Toggle(\n",
    "    name=\"ADD CLOUD FOR SET TIME\".format(ab_time), value=False, button_type=\"default\", width=100,\n",
    ")\n",
    "        \n",
    "def toggle_wait(event):\n",
    "    if event.new:\n",
    "        for i in range(wait_time):\n",
    "            arduino.write(bytes([WAIT]))\n",
    "        \n",
    "wait_toggle = pn.widgets.Toggle(\n",
    "    name=\"WAIT\", value=False, button_type=\"default\", width=100,\n",
    ")"
   ]
  },
  {
   "cell_type": "code",
   "execution_count": null,
   "id": "0ce29425",
   "metadata": {},
   "outputs": [],
   "source": [
    "#this sets an amount of time to wait before initializing next action\n",
    "wait_time =   pn.widgets.Spinner(value=0, width=75)\n",
    "ab_time =   pn.widgets.Spinner(value=0, width=75)"
   ]
  },
  {
   "cell_type": "code",
   "execution_count": null,
   "id": "c8ebe999",
   "metadata": {},
   "outputs": [],
   "source": [
    "airbrush_watch = airbrush_toggle.param.watch(toggle_airbrush, 'value')\n",
    "wait_watch = wait_toggle.param.watch(toggle_wait, 'value')\n",
    "\n",
    "#watchers need to be defined so that it is clear if an event is new for the toggle definitions."
   ]
  },
  {
   "cell_type": "code",
   "execution_count": null,
   "id": "155f403b",
   "metadata": {},
   "outputs": [],
   "source": [
    "\n",
    "#in the panel module we get these live toggle buttons\n",
    "\n",
    "pn.Row(airbrush_toggle_live,pn.Spacer(width=25),airbrush_toggle_set, pn.Spacer(width=65), ab_time, pn.Spacer(width=0),wait_toggle,wait_time)"
   ]
  },
  {
   "cell_type": "code",
   "execution_count": null,
   "id": "bcf1b37e",
   "metadata": {},
   "outputs": [],
   "source": []
  },
  {
   "cell_type": "markdown",
   "id": "c4198a9d",
   "metadata": {},
   "source": [
    "Here is an example of a function to add the cloud incrementally into the chamber"
   ]
  },
  {
   "cell_type": "code",
   "execution_count": null,
   "id": "c7661a74",
   "metadata": {},
   "outputs": [],
   "source": [
    "def pattern_add(on_time,off_time,rounds):\n",
    "    \"\"\"pattern add controls the airbrush in a pattern\n",
    "    it takes the parameters of the on_time, the off_time,\n",
    "    and how many times that it should cycle between the two\"\"\"\n",
    "        for i in range(rounds):\n",
    "            for j in range(off_time):\n",
    "                arduino.write(bytes([WAIT])\n",
    "                              \n",
    "            arduino.write(bytes([AIRBRUSH_ON]))\n",
    "            for m in range(on_time):\n",
    "                arduino.write(bytes([WAIT])\n",
    "            arduino.write(bytes([AIRBRUSH_OFF]))\n",
    "    "
   ]
  },
  {
   "cell_type": "code",
   "execution_count": null,
   "id": "9637eae9",
   "metadata": {},
   "outputs": [],
   "source": [
    "pattern_add(3,2,5)\n",
    "#this should cycle through a pattern w/ 3 seconds on, 2 seconds off, for 5 rounds"
   ]
  },
  {
   "cell_type": "code",
   "execution_count": null,
   "id": "04bafb36",
   "metadata": {},
   "outputs": [],
   "source": [
    "#always close serial connection when finished\n",
    "arduino.close()"
   ]
  },
  {
   "cell_type": "code",
   "execution_count": null,
   "id": "5648829f",
   "metadata": {},
   "outputs": [],
   "source": [
    "## TODO\n",
    "# Add a way for the program to take brightness data and use that information\n",
    "#to determine how long of a pulse is needed to bring the cloud to a stable state"
   ]
  }
 ],
 "metadata": {
  "kernelspec": {
   "display_name": "Python 3",
   "language": "python",
   "name": "python3"
  },
  "language_info": {
   "codemirror_mode": {
    "name": "ipython",
    "version": 3
   },
   "file_extension": ".py",
   "mimetype": "text/x-python",
   "name": "python",
   "nbconvert_exporter": "python",
   "pygments_lexer": "ipython3",
   "version": "3.8.8"
  }
 },
 "nbformat": 4,
 "nbformat_minor": 5
}
