{
 "cells": [
  {
   "cell_type": "code",
   "execution_count": null,
   "id": "c9b86174",
   "metadata": {},
   "outputs": [],
   "source": [
    "import numpy as np\n",
    "import scipy.stats as sp\n",
    "import matplotlib.pyplot as plt\n",
    "import scipy.stats as sp\n",
    "\n",
    "from mpl_toolkits.mplot3d import axes3d\n",
    "\n",
    "from numpy import genfromtxt"
   ]
  },
  {
   "cell_type": "code",
   "execution_count": null,
   "id": "cc10a556",
   "metadata": {},
   "outputs": [],
   "source": [
    "\n",
    "cloud_data = genfromtxt('6_17.csv', delimiter=',')"
   ]
  },
  {
   "cell_type": "code",
   "execution_count": null,
   "id": "318a7a9e",
   "metadata": {},
   "outputs": [],
   "source": [
    "print(cloud_data[1:,0])"
   ]
  },
  {
   "cell_type": "markdown",
   "id": "5c0578f8",
   "metadata": {},
   "source": [
    "## Initial Data Reading"
   ]
  },
  {
   "cell_type": "code",
   "execution_count": null,
   "id": "9eb2a4da",
   "metadata": {},
   "outputs": [],
   "source": [
    "#SG Here is the cloud chamber data collected of brightness vs. time when the brightness of a laser\n",
    "#incident on the cloud chamber is without any added mist for 5 seconds, then 5 seconds of mist.\n",
    "plt.plot(cloud_data[1:,0],cloud_data[1:,1]) \n",
    "plt.plot(cloud_data[1:,0],cloud_data[1:,3]) \n",
    "plt.plot(cloud_data[1:,0],cloud_data[1:,5]) \n",
    "plt.plot(cloud_data[1:,0],cloud_data[1:,7])\n",
    "plt.plot(cloud_data[1:,0],cloud_data[1:,9])\n",
    "plt.plot(cloud_data[1:,0],cloud_data[1:,11])\n",
    "plt.xlabel('time(seconds)')\n",
    "plt.ylabel('brightness(lux)')\n"
   ]
  },
  {
   "cell_type": "markdown",
   "id": "5da220d3",
   "metadata": {},
   "source": [
    "## Slicing Sections of Interest"
   ]
  },
  {
   "cell_type": "code",
   "execution_count": null,
   "id": "b3ac241e",
   "metadata": {},
   "outputs": [],
   "source": [
    "start=1000\n",
    "stop=2000\n",
    "#slicing different values for areas of interest\n",
    "\n",
    "plt.plot(cloud_data[start:stop,0],cloud_data[start:stop,1])\n",
    "plt.xlabel('time(seconds)')\n",
    "plt.ylabel('brightness(lux)')\n",
    "#a visual of what is the area of interest\n",
    "\n",
    "#hardwiring once that area is found\n",
    "Trial_1=cloud_data[1000:2200,1]\n",
    "Trial_2=cloud_data[1000:2200,3]\n",
    "Trial_3=cloud_data[1000:2100,5]\n",
    "Trial_4=cloud_data[1000:2000,7]\n",
    "Trial_5=cloud_data[1000:2000,9]\n",
    "Trial_6=cloud_data[1000:2200,11]\n",
    "\n",
    "\n"
   ]
  },
  {
   "cell_type": "markdown",
   "id": "e2741a55",
   "metadata": {},
   "source": [
    "## Linearize the function"
   ]
  },
  {
   "cell_type": "code",
   "execution_count": null,
   "id": "dc220f57",
   "metadata": {},
   "outputs": [],
   "source": [
    "#assuming that it is in the form returning_brightness= a*e^(bx)\n",
    "\n",
    "plt.plot(cloud_data[1000:2200,0],[np.log(x) for x in Trial_1])\n",
    "plt.xlabel('time(seconds)')\n",
    "plt.ylabel('natural log of brightness(lux)')"
   ]
  },
  {
   "cell_type": "code",
   "execution_count": null,
   "id": "5fb8b883",
   "metadata": {},
   "outputs": [],
   "source": [
    "plt.plot(cloud_data[1000:2200,0],[np.log(x) for x in Trial_2])\n",
    "plt.xlabel('time(seconds)')\n",
    "plt.ylabel('natural log of brightness(lux)')"
   ]
  },
  {
   "cell_type": "code",
   "execution_count": null,
   "id": "d527a189",
   "metadata": {},
   "outputs": [],
   "source": [
    "plt.plot(cloud_data[1000:2100,0],[np.log(x) for x in Trial_3])\n",
    "plt.xlabel('time(seconds)')\n",
    "plt.ylabel('natural log of brightness(lux)')"
   ]
  },
  {
   "cell_type": "code",
   "execution_count": null,
   "id": "3a83d4ee",
   "metadata": {},
   "outputs": [],
   "source": [
    "plt.plot(cloud_data[1000:2000,0],[np.log(x) for x in Trial_4])\n",
    "plt.xlabel('time(seconds)')\n",
    "plt.ylabel('natural log of brightness(lux)')"
   ]
  },
  {
   "cell_type": "code",
   "execution_count": null,
   "id": "a3c1bcef",
   "metadata": {},
   "outputs": [],
   "source": [
    "plt.plot(cloud_data[1000:2000,0],[np.log(x) for x in Trial_5[]])\n",
    "plt.xlabel('time(seconds)')\n",
    "plt.ylabel('natural log of brightness(lux)')"
   ]
  },
  {
   "cell_type": "code",
   "execution_count": null,
   "id": "f56891b4",
   "metadata": {},
   "outputs": [],
   "source": [
    "plt.plot(cloud_data[1000:2200,0],[np.log(x) for x in Trial_6])\n",
    "plt.xlabel('time(seconds)')\n",
    "plt.ylabel('natural log of brightness(lux)')"
   ]
  },
  {
   "cell_type": "markdown",
   "id": "682d6261",
   "metadata": {},
   "source": [
    "## Okay so this appears to be linear, but we will test the correlation coefficient to test that"
   ]
  },
  {
   "cell_type": "code",
   "execution_count": null,
   "id": "183bac89",
   "metadata": {},
   "outputs": [],
   "source": [
    "# The values needed to be sliced further, to not have the turbulent sections interfering with the \n",
    "# correlation coefficent\n",
    "\n",
    "start=1650\n",
    "stop=2000\n",
    "#slicing different values for areas of interest\n",
    "\n",
    "plt.plot(cloud_data[start:stop,0],[np.log(x) for x in cloud_data[start:stop,1]])\n",
    "plt.xlabel('time(seconds)')\n",
    "plt.ylabel('brightness(lux)')\n",
    "\n",
    "\n",
    "\n"
   ]
  },
  {
   "cell_type": "code",
   "execution_count": null,
   "id": "778981e9",
   "metadata": {},
   "outputs": [],
   "source": [
    "R_1= np.corrcoef(cloud_data[1650:2000,0],[np.log(x) for x in cloud_data[1650:2000,11]])[0,1]\n",
    "\n",
    "R_2 = np.corrcoef(cloud_data[1550:2000,0],[np.log(x) for x in cloud_data[1550:2000,3]])[0,1]\n",
    "\n",
    "R_3 = np.corrcoef(cloud_data[1450:2000,0],[np.log(x) for x in cloud_data[1450:2000,5]])[0,1]\n",
    "R_4 = np.corrcoef(cloud_data[1450:2000,0],[np.log(x) for x in cloud_data[1450:2000,7]])[0,1]\n",
    "R_5 = np.corrcoef(cloud_data[1450:2000,0],[np.log(x) for x in cloud_data[1450:2000,9]])[0,1]\n",
    "R_6= np.corrcoef(cloud_data[1450:2000,0],[np.log(x) for x in cloud_data[1450:2000,11]])[0,1]\n",
    "\n",
    "#all high 0.99+ R values, support that this is a exponential function."
   ]
  },
  {
   "cell_type": "code",
   "execution_count": null,
   "id": "57f11353",
   "metadata": {},
   "outputs": [],
   "source": [
    "start=1650\n",
    "stop=2000\n",
    "#slicing different values for areas of interest\n",
    "\n",
    "for i in range(12):\n",
    "    if i%2 != 0:\n",
    "        plt.plot(cloud_data[start:stop,0],[np.log(x) for x in cloud_data[start:stop,i]])\n",
    "plt.xlabel('time(seconds)')\n",
    "plt.ylabel('natural log of brightness(lux)')"
   ]
  },
  {
   "cell_type": "markdown",
   "id": "f4f755f2",
   "metadata": {},
   "source": [
    "## Now to look specifically at the trials with turbulence"
   ]
  },
  {
   "cell_type": "code",
   "execution_count": null,
   "id": "39f458c5",
   "metadata": {},
   "outputs": [],
   "source": [
    "start=1300\n",
    "stop=1550\n",
    "#slicing different values for areas of interest\n",
    "\n",
    "plt.plot(cloud_data[start:stop,0],cloud_data[start:stop,1])\n",
    "\n",
    "plt.xlabel('time(seconds)')\n",
    "plt.ylabel('brightness(lux)')\n",
    "plt.title(\"Trial # 1 Turbulence\")\n",
    "#a visual of what is the area of interest\\\n",
    "\n",
    "#In these sections the fluctuating brightness is taken just after the airbrush stops emitting water\n",
    "#and right before the exponential behavior starts\n",
    "\n"
   ]
  },
  {
   "cell_type": "code",
   "execution_count": null,
   "id": "2bc690d1",
   "metadata": {},
   "outputs": [],
   "source": [
    "start=1400\n",
    "stop=1450\n",
    "#slicing different values for areas of interest\n",
    "\n",
    "plt.plot(cloud_data[start:stop,0],cloud_data[start:stop,3])\n",
    "\n",
    "plt.xlabel('time(seconds)')\n",
    "plt.ylabel('brightness(lux)')\n",
    "plt.title(\"Trial # 2 Turbulence\")"
   ]
  },
  {
   "cell_type": "markdown",
   "id": "27bc05ea",
   "metadata": {},
   "source": [
    "## Observation, It appears that the later trials, after some mist had developed in the chamber, turbulence was not observed. The longest turbulent section lasted for 4 seconds, this possibly could be reduced by priming the chamber with a small amount of mist."
   ]
  },
  {
   "cell_type": "code",
   "execution_count": null,
   "id": "ee665bdb",
   "metadata": {},
   "outputs": [],
   "source": []
  }
 ],
 "metadata": {
  "kernelspec": {
   "display_name": "Python 3",
   "language": "python",
   "name": "python3"
  },
  "language_info": {
   "codemirror_mode": {
    "name": "ipython",
    "version": 3
   },
   "file_extension": ".py",
   "mimetype": "text/x-python",
   "name": "python",
   "nbconvert_exporter": "python",
   "pygments_lexer": "ipython3",
   "version": "3.8.8"
  }
 },
 "nbformat": 4,
 "nbformat_minor": 5
}
