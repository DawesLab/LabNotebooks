{
 "cells": [
  {
   "cell_type": "markdown",
   "metadata": {},
   "source": [
    "## EIT lab notes\n",
    "A notebook for relevant calculations regarding the observation conditions for EIT slow light\n",
    "\n",
    "**Goal: observe slow light with 10% pulse delay by Nov 1, 2018**"
   ]
  },
  {
   "cell_type": "code",
   "execution_count": 1,
   "metadata": {},
   "outputs": [],
   "source": [
    "from numpy import pi\n",
    "from scipy.constants import hbar"
   ]
  },
  {
   "cell_type": "markdown",
   "metadata": {},
   "source": [
    "Notes from Klein et al 2011 (doi:10.1103/PhysRevA.83.013826)\n",
    "\n",
    "<img src=\"fig/EIT_setup_Klein_et_al_2011.png\" width=400>\n",
    "\n",
    "Levels used are F=2 -> F'=1 with control field sigma+ and probe sigma-. Stated variables for their primary data figure are: T = 42 C, I = 2.5 mW/cm2, and beam diameter 3 mm. So we'll translate these to power etc. Half-waveplate is set such that the control and probe have 10:1 intensity ratio. Assuming the stated intensity is either the control or the total... which should be within 10% of each other.\n",
    "\n",
    "https://www.ophiropt.com/laser--measurement/power-density-calculator suggests that 3 mm diameter (1/e^2) at 100 uW power, gives peak intensity of 2.83 mW/cm^2, compared to 2.5 mW/cm^2 stated by Klein et al. Still, that's a good ballpark. Now, re-create this calculation:"
   ]
  },
  {
   "cell_type": "code",
   "execution_count": 9,
   "metadata": {},
   "outputs": [
    {
     "data": {
      "text/plain": [
       "176.7145867644259"
      ]
     },
     "execution_count": 9,
     "metadata": {},
     "output_type": "execute_result"
    }
   ],
   "source": [
    "# Find the power for a 3 mm diameter gaussian beam with stated intensity:\n",
    "r = 0.3/2 # units of cm\n",
    "A = pi*r**2\n",
    "P = 2.5e-3 * A\n",
    "P*1e6 # microWatts"
   ]
  },
  {
   "cell_type": "markdown",
   "metadata": {},
   "source": [
    "Also good ballpark agreement... should verify what exact calculation agrees with the web app, likely a different area assumption."
   ]
  },
  {
   "cell_type": "markdown",
   "metadata": {},
   "source": [
    "**Oct 16, 2018**\n",
    "Observed significant increase in peak height by heating with electric heater tape. Current causes significant b-field and destroys the EIT feature, but it returns when heater turns off. Note, adding thermocouple created too large a magnetic field (not sure if _all_ thermocouples are magnetic, or just that one).\n",
    "\n",
    "Also tried warm-air system, but air blowing directly on the cell was too disruptive to see the signal. Definitely need to use a radiatively coupled heating system.\n",
    "\n",
    "For now, it seems reasonable to use the heater tape, but hard to calibrate temp. Could just use an absorption scan as a measure of temp."
   ]
  },
  {
   "cell_type": "code",
   "execution_count": null,
   "metadata": {},
   "outputs": [],
   "source": []
  }
 ],
 "metadata": {
  "kernelspec": {
   "display_name": "Python 3",
   "language": "python",
   "name": "python3"
  },
  "language_info": {
   "codemirror_mode": {
    "name": "ipython",
    "version": 3
   },
   "file_extension": ".py",
   "mimetype": "text/x-python",
   "name": "python",
   "nbconvert_exporter": "python",
   "pygments_lexer": "ipython3",
   "version": "3.6.6"
  }
 },
 "nbformat": 4,
 "nbformat_minor": 2
}
