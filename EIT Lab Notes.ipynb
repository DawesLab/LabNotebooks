{
 "cells": [
  {
   "cell_type": "markdown",
   "metadata": {},
   "source": [
    "## EIT lab notes\n",
    "A notebook for relevant calculations regarding the observation conditions for EIT slow light\n",
    "\n",
    "**Goal: observe slow light with 10% pulse delay by Nov 1, 2018**"
   ]
  },
  {
   "cell_type": "code",
   "execution_count": 1,
   "metadata": {},
   "outputs": [],
   "source": [
    "from numpy import pi\n",
    "from scipy.constants import hbar"
   ]
  },
  {
   "cell_type": "markdown",
   "metadata": {},
   "source": [
    "Notes from Klein et al 2011 (doi:10.1103/PhysRevA.83.013826)\n",
    "\n",
    "<img src=\"fig/EIT_setup_Klein_et_al_2011.png\" width=400>\n",
    "\n",
    "Levels used are F=2 -> F'=1 with control field sigma+ and probe sigma-. Stated variables for their primary data figure are: T = 42 C, I = 2.5 mW/cm2, and beam diameter 3 mm. So we'll translate these to power etc. Half-waveplate is set such that the control and probe have 10:1 intensity ratio. Assuming the stated intensity is either the control or the total... which should be within 10% of each other.\n",
    "\n",
    "https://www.ophiropt.com/laser--measurement/power-density-calculator suggests that 3 mm diameter (1/e^2) at 100 uW power, gives peak intensity of 2.83 mW/cm^2, compared to 2.5 mW/cm^2 stated by Klein et al. Still, that's a good ballpark. Now, re-create this calculation:"
   ]
  },
  {
   "cell_type": "code",
   "execution_count": 9,
   "metadata": {},
   "outputs": [
    {
     "data": {
      "text/plain": [
       "176.7145867644259"
      ]
     },
     "execution_count": 9,
     "metadata": {},
     "output_type": "execute_result"
    }
   ],
   "source": [
    "# Find the power for a 3 mm diameter gaussian beam with stated intensity:\n",
    "r = 0.3/2 # units of cm\n",
    "A = pi*r**2\n",
    "P = 2.5e-3 * A\n",
    "P*1e6 # microWatts"
   ]
  },
  {
   "cell_type": "markdown",
   "metadata": {},
   "source": [
    "Also good ballpark agreement... should verify what exact calculation agrees with the web app, likely a different area assumption."
   ]
  },
  {
   "cell_type": "markdown",
   "metadata": {},
   "source": [
    "**Oct 16, 2018**\n",
    "Observed significant increase in peak height by heating with electric heater tape. Current causes significant b-field and destroys the EIT feature, but it returns when heater turns off. Note, adding thermocouple created too large a magnetic field (not sure if _all_ thermocouples are magnetic, or just that one).\n",
    "\n",
    "Also tried warm-air system, but air blowing directly on the cell was too disruptive to see the signal. Definitely need to use a radiatively coupled heating system so the air isn't hitting the cell with turbulence (just flowing past in a pipe). I ordered a larger diameter heater (3/4\") to see if larger diameter tubing will help. There is plenty of room to get into the chamber.\n",
    "\n",
    "For now, it seems reasonable to use the heater tape, but hard to calibrate temp. Could just use an absorption scan as a measure of temp.\n",
    "\n",
    "**Oct 17, 2018**\n",
    "Added all optics: GL-polarizer, λ/2, λ/4, Cell, λ/4, GL-polarizer, detector. Tuned polarization according to the following:\n",
    "\n",
    "  1. cross two polarizers, tune to minimize signal.\n",
    "  2. add first λ/4, tune to maximize signal (i.e. maximal transmission through crossed pol, indicating circularity)\n",
    "  3. remove first λ/4, add second λ/4, tune to maximize signal (i.e. same condition as 2\n",
    "  4. install both λ/4 plates, keeping their orientation from 2&3.\n",
    "  5. add λ/2, this adjusts balance between probe and control, tune to have ~10% of peak signal.\n",
    "  \n",
    "With some heat (around 60C according to IR camera) this gives a resolvable EIT spike at zero B-field. The medium is not acting opaque, so I need to take some absorption scans to confirm.\n",
    "\n",
    "TODO: work out the best way to take an occasional scan while laser is still locked... and how to trigger the scope on that scan?"
   ]
  },
  {
   "cell_type": "code",
   "execution_count": null,
   "metadata": {},
   "outputs": [],
   "source": []
  }
 ],
 "metadata": {
  "kernelspec": {
   "display_name": "Python 3",
   "language": "python",
   "name": "python3"
  },
  "language_info": {
   "codemirror_mode": {
    "name": "ipython",
    "version": 3
   },
   "file_extension": ".py",
   "mimetype": "text/x-python",
   "name": "python",
   "nbconvert_exporter": "python",
   "pygments_lexer": "ipython3",
   "version": "3.6.6"
  }
 },
 "nbformat": 4,
 "nbformat_minor": 2
}
