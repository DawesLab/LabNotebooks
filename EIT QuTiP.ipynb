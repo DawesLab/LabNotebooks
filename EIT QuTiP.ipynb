{
 "cells": [
  {
   "cell_type": "code",
   "execution_count": 1,
   "metadata": {
    "collapsed": true
   },
   "outputs": [],
   "source": [
    "import numpy as np\n",
    "from qutip import *\n",
    "import matplotlib.pyplot as plt\n",
    "%matplotlib inline"
   ]
  },
  {
   "cell_type": "code",
   "execution_count": 2,
   "metadata": {
    "collapsed": false
   },
   "outputs": [
    {
     "data": {
      "text/plain": [
       "''"
      ]
     },
     "execution_count": 2,
     "metadata": {},
     "output_type": "execute_result"
    }
   ],
   "source": [
    "#one, two, three = three_level_basis()\n",
    "two, three, one = three_level_basis()\n",
    "sig11 = one * one.dag()\n",
    "sig22 = two * two.dag()\n",
    "sig33 = three * three.dag()\n",
    "sig13 = one * three.dag()\n",
    "sig23 = two * three.dag()\n",
    "sig12 = one * two.dag()\n",
    "\n",
    "# g1 is |1>\n",
    "# e is |2>\n",
    "# g2 is |3>\n",
    "\"\"\"\n",
    "         --- |3>\n",
    "          /\\\n",
    "         /  \\\n",
    "    OmP /    \\  OmC\n",
    "       /      \\\n",
    "      /        \\\n",
    "     /         --- |2>\n",
    "    --- |1>            \n",
    "\"\"\"\n",
    "\"\""
   ]
  },
  {
   "cell_type": "code",
   "execution_count": 3,
   "metadata": {
    "collapsed": false
   },
   "outputs": [],
   "source": [
    "# Loop over the detuning:\n",
    "\n",
    "# constants based on Jenkins EIT masters thesis\n",
    "# It seems like the values they quote aren't right. They don't match the code.\n",
    "gamma = 5\n",
    "Gamma = 0.1\n",
    "deltaC = 0\n",
    "\n",
    "omegaP = 0.1\n",
    "omegaC = 0.2\n",
    "\n",
    "\n",
    "\n",
    "# collapse operators\n",
    "c1 = np.sqrt(gamma)*sig13\n",
    "c2 = np.sqrt(Gamma)*sig23\n",
    "collapse = [c1,c2]\n",
    "\n",
    "deltalist = np.linspace(-3,3,201)\n",
    "#deltalist = [1e-15]\n",
    "pols = []\n",
    "prob = []\n",
    "\n",
    "for deltaP in deltalist:\n",
    "    H = omegaP*(sig13+sig13.dag()) + omegaC*(sig23+sig23.dag()) + deltaC*(sig33 - sig22) + (-deltaP)*(sig33 - sig11)\n",
    "#     H=(-delta_min)*(sigma_ee-sigma_gg)+(phi)*(sigma_ee-sigma_uu)+omega1*(sigma_ge+sigma_ge.dag())+omega2*(sigma_ue+sigma_ue.dag())\n",
    "#     L=liouvillian(H,[c1,c2])\n",
    "    rho_ss = steadystate(H,[c1,c2])\n",
    "#     rho_ss = steadystate(L)\n",
    "    pols.append(expect(sig13.dag(),rho_ss))\n",
    "    prob.append(rho_ss[1,1])"
   ]
  },
  {
   "cell_type": "code",
   "execution_count": 4,
   "metadata": {
    "collapsed": false
   },
   "outputs": [
    {
     "name": "stderr",
     "output_type": "stream",
     "text": [
      "/Users/dawes/anaconda/lib/python3.5/site-packages/numpy/core/numeric.py:474: ComplexWarning: Casting complex values to real discards the imaginary part\n",
      "  return array(a, dtype, copy=False, order=order)\n"
     ]
    },
    {
     "data": {
      "text/plain": [
       "[<matplotlib.lines.Line2D at 0x10e6787f0>]"
      ]
     },
     "execution_count": 4,
     "metadata": {},
     "output_type": "execute_result"
    },
    {
     "data": {
      "image/png": "[encoded data removed]",
      "text/plain": [
       "<matplotlib.figure.Figure at 0x10e35f6a0>"
      ]
     },
     "metadata": {},
     "output_type": "display_data"
    }
   ],
   "source": [
    "plt.plot(deltalist,prob,'.-')"
   ]
  },
  {
   "cell_type": "code",
   "execution_count": null,
   "metadata": {
    "collapsed": true
   },
   "outputs": [],
   "source": []
  }
 ],
 "metadata": {
  "kernelspec": {
   "display_name": "Python 3",
   "language": "python",
   "name": "python3"
  },
  "language_info": {
   "codemirror_mode": {
    "name": "ipython",
    "version": 3
   },
   "file_extension": ".py",
   "mimetype": "text/x-python",
   "name": "python",
   "nbconvert_exporter": "python",
   "pygments_lexer": "ipython3",
   "version": "3.5.0"
  }
 },
 "nbformat": 4,
 "nbformat_minor": 0
}
