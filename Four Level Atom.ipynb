{
 "cells": [
  {
   "cell_type": "markdown",
   "metadata": {},
   "source": [
    "# Four-level atom\n",
    "Along the lines of:\n",
    "\n",
    "Large Kerr nonlinearity with a single atom\n",
    "\n",
    "1999 J. Opt. B: Quantum Semiclass. Opt. 1 490\n",
    "\n",
    "(http://iopscience.iop.org/1464-4266/1/4/322)"
   ]
  },
  {
   "cell_type": "code",
   "execution_count": 1,
   "metadata": {
    "collapsed": true
   },
   "outputs": [],
   "source": [
    "import numpy as np\n",
    "from qutip import *\n",
    "import matplotlib.pyplot as plt\n",
    "%matplotlib inline"
   ]
  },
  {
   "cell_type": "code",
   "execution_count": 2,
   "metadata": {
    "collapsed": true
   },
   "outputs": [],
   "source": [
    "one = basis(4,0)\n",
    "two = basis(4,1)\n",
    "three = basis(4,2)\n",
    "four = basis(4,3)\n",
    "\n",
    "sig11 = one * one.dag()\n",
    "sig22 = two * two.dag()\n",
    "sig33 = three * three.dag()\n",
    "sig44 = four *four.dag()\n",
    "\n",
    "sig34 = three * four.dag()\n",
    "sig32 = three * two.dag()\n",
    "sig12 = one * two.dag()\n",
    "\n",
    "N = 10  # photon space\n",
    "\n",
    "# Tensor space in the form |atom> (*) |photon>:\n",
    "a = tensor(identity(4),destroy(N))\n",
    "sig11 = tensor(sig11,identity(N))\n",
    "sig22 = tensor(sig22,identity(N))\n",
    "sig33 = tensor(sig33,identity(N))\n",
    "sig44 = tensor(sig44,identity(N))\n",
    "\n",
    "sig34 = tensor(sig34,identity(N))\n",
    "sig32 = tensor(sig32,identity(N))\n",
    "sig12 = tensor(sig12,identity(N))"
   ]
  },
  {
   "cell_type": "code",
   "execution_count": 65,
   "metadata": {
    "collapsed": false
   },
   "outputs": [],
   "source": [
    "kappa = 1\n",
    "gamma = 0.1\n",
    "gamma1 = gamma\n",
    "gamma2 = gamma\n",
    "gamma3 = gamma\n",
    "\n",
    "delta = -0.2\n",
    "Delta = 0.1\n",
    "g = 5\n",
    "g1 = g\n",
    "g2 = g\n",
    "OmC = 8\n",
    "Ep = 0.6\n",
    "\n",
    "collapse = [np.sqrt(kappa)*a, np.sqrt(gamma1)*sig12, np.sqrt(gamma2)*sig32, np.sqrt(gamma3)*sig34]\n",
    "\n",
    "Hsys = delta*sig22 + Delta*sig44 + 1j*(g1*(a.dag()*sig12 - sig12.dag()*a) + g2*(a.dag()*sig34 - sig34.dag()*a) + OmC*(sig32 - sig32.dag()))\n",
    "Hpump = 1j*Ep*(a - a.dag())\n",
    "H = Hsys + Hpump\n",
    "\n",
    "# initial state is in the ground level and no photons in the cavity\n",
    "rho0 = ket2dm(tensor(one,basis(N,0))) "
   ]
  },
  {
   "cell_type": "code",
   "execution_count": 66,
   "metadata": {
    "collapsed": false,
    "scrolled": false
   },
   "outputs": [],
   "source": [
    "tlist = np.linspace(0,10,100)\n",
    "solution = mesolve(H, rho0, tlist, collapse, [sig11,sig22,sig33,sig44,a.dag()*a], Options(method='bdf'))"
   ]
  },
  {
   "cell_type": "code",
   "execution_count": 67,
   "metadata": {
    "collapsed": false
   },
   "outputs": [
    {
     "data": {
      "text/plain": [
       "(-0.1, 0.5)"
      ]
     },
     "execution_count": 67,
     "metadata": {},
     "output_type": "execute_result"
    },
    {
     "data": {
      "image/png": "[encoded data removed]",
      "text/plain": [
       "<matplotlib.figure.Figure at 0x113f88ef0>"
      ]
     },
     "metadata": {},
     "output_type": "display_data"
    }
   ],
   "source": [
    "plt.figure(figsize=[12,4])\n",
    "plt.subplot(121)\n",
    "plt.plot(tlist,solution.expect[0],label=\"s11\")\n",
    "plt.plot(tlist,solution.expect[1],label=\"s22\")\n",
    "plt.plot(tlist,solution.expect[2],label=\"s33\")\n",
    "plt.plot(tlist,solution.expect[3],label=\"s44\")\n",
    "plt.ylim(-0.2,1.2)\n",
    "plt.legend()\n",
    "\n",
    "plt.subplot(122)\n",
    "plt.plot(tlist,solution.expect[4],label=\"n\")\n",
    "plt.title(\"Photon number\")\n",
    "plt.ylim(-0.1,0.5)"
   ]
  },
  {
   "cell_type": "code",
   "execution_count": 68,
   "metadata": {
    "collapsed": true
   },
   "outputs": [],
   "source": [
    "g2 = coherence_function_g2(H, tlist, collapse, a)"
   ]
  },
  {
   "cell_type": "code",
   "execution_count": 69,
   "metadata": {
    "collapsed": false
   },
   "outputs": [
    {
     "name": "stderr",
     "output_type": "stream",
     "text": [
      "/Users/dawes/anaconda/lib/python3.5/site-packages/numpy/core/numeric.py:474: ComplexWarning: Casting complex values to real discards the imaginary part\n",
      "  return array(a, dtype, copy=False, order=order)\n"
     ]
    },
    {
     "data": {
      "text/plain": [
       "[<matplotlib.lines.Line2D at 0x1143d47b8>]"
      ]
     },
     "execution_count": 69,
     "metadata": {},
     "output_type": "execute_result"
    },
    {
     "data": {
      "image/png": "[encoded data removed]",
      "text/plain": [
       "<matplotlib.figure.Figure at 0x113f57358>"
      ]
     },
     "metadata": {},
     "output_type": "display_data"
    }
   ],
   "source": [
    "plt.plot(tlist,g2)"
   ]
  },
  {
   "cell_type": "code",
   "execution_count": null,
   "metadata": {
    "collapsed": true
   },
   "outputs": [],
   "source": []
  }
 ],
 "metadata": {
  "kernelspec": {
   "display_name": "Python 3",
   "language": "python",
   "name": "python3"
  },
  "language_info": {
   "codemirror_mode": {
    "name": "ipython",
    "version": 3
   },
   "file_extension": ".py",
   "mimetype": "text/x-python",
   "name": "python",
   "nbconvert_exporter": "python",
   "pygments_lexer": "ipython3",
   "version": "3.5.0"
  }
 },
 "nbformat": 4,
 "nbformat_minor": 0
}
