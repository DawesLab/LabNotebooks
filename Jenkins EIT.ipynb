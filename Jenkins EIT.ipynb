{
 "cells": [
  {
   "cell_type": "code",
   "execution_count": null,
   "metadata": {
    "collapsed": true
   },
   "outputs": [],
   "source": [
    "#Code for Figure 4.1\n",
    "from qutip import *\n",
    "from pylab import *\n",
    "from numpy import *\n",
    "%matplotlib inline"
   ]
  },
  {
   "cell_type": "code",
   "execution_count": 56,
   "metadata": {
    "collapsed": false
   },
   "outputs": [
    {
     "data": {
      "text/plain": [
       "<matplotlib.text.Text at 0x116ed9ef0>"
      ]
     },
     "execution_count": 56,
     "metadata": {},
     "output_type": "execute_result"
    },
    {
     "data": {
      "image/png": "[encoded data removed]",
      "text/plain": [
       "<matplotlib.figure.Figure at 0x1158b7cc0>"
      ]
     },
     "metadata": {},
     "output_type": "display_data"
    }
   ],
   "source": [
    "#Non degenerate Lambda steady state function\n",
    "ustate = basis(3,0)\n",
    "excited = basis(3,1)\n",
    "ground = basis(3,2)\n",
    "nsteps=200\n",
    "delta_min=-3\n",
    "delta_max=3\n",
    "xmin=delta_min\n",
    "xmax=delta_max\n",
    "d=(delta_max-delta_min)*(nsteps)**(-1)\n",
    "omega1=.1\n",
    "omega2=0.2  # paper says these are 0.2*gamma\n",
    "phi=0\n",
    "\n",
    "\n",
    "#decay rates\n",
    "gamma_eu=.1 \n",
    "gamma_eg=5\n",
    "sigma_ee = tensor(excited * excited.dag())\n",
    "sigma_uu = tensor(ustate * ustate.dag())\n",
    "sigma_gg = tensor(ground * ground.dag())\n",
    "sigma_ue = tensor(ustate * excited.dag())\n",
    "sigma_ge = tensor(ground * excited.dag())\n",
    "clist=[]\n",
    "dlist=[]\n",
    "\n",
    "#collapse operators\n",
    "c1=sqrt(gamma_eg)*sigma_ge\n",
    "c2=sqrt(gamma_eu)*sigma_ue\n",
    "c1dc1=c1.dag()*c1\n",
    "c2dc2=c2.dag()*c2\n",
    "fig=figure(figsize=(6.1,5))\n",
    "fig.subplots_adjust(wspace=0)\n",
    "fig.subplots_adjust(hspace=0)\n",
    "ax1 = fig.add_subplot(111)\n",
    "ax1.set_ylabel(r'$P_e$')"
   ]
  },
  {
   "cell_type": "code",
   "execution_count": 57,
   "metadata": {
    "collapsed": false
   },
   "outputs": [
    {
     "name": "stderr",
     "output_type": "stream",
     "text": [
      "/Users/dawes/anaconda/lib/python3.5/site-packages/numpy/core/numeric.py:474: ComplexWarning: Casting complex values to real discards the imaginary part\n",
      "  return array(a, dtype, copy=False, order=order)\n"
     ]
    },
    {
     "data": {
      "text/plain": [
       "[<matplotlib.lines.Line2D at 0x11686f898>]"
      ]
     },
     "execution_count": 57,
     "metadata": {},
     "output_type": "execute_result"
    },
    {
     "data": {
      "image/png": "[encoded data removed]",
      "text/plain": [
       "<matplotlib.figure.Figure at 0x1170b9be0>"
      ]
     },
     "metadata": {},
     "output_type": "display_data"
    }
   ],
   "source": [
    "for i in range (0,nsteps+1):\n",
    "    #system hamiltonian\n",
    "    H=(-delta_min)*(sigma_ee-sigma_gg)+(phi)*(sigma_ee-sigma_uu)+omega1*(sigma_ge+sigma_ge.dag())+omega2*(sigma_ue+sigma_ue.dag())\n",
    "    #Liouvillian\n",
    "    #L=liouvillian(H,[c1,c2])\n",
    "    #rhoss=steady(L)\n",
    "    rhoss = steadystate(H,[c1,c2])\n",
    "    prob_excited=rhoss[1,1]\n",
    "    clist.append(prob_excited)\n",
    "    dlist.append(delta_min)\n",
    "    delta_min=delta_min+d\n",
    "    \n",
    "# ax1.plot(dlist,clist)\n",
    "# locator_params(axis = 'y', nbins = 6)\n",
    "# show()\n",
    "plot(dlist,clist,'.-')"
   ]
  },
  {
   "cell_type": "code",
   "execution_count": 58,
   "metadata": {
    "collapsed": false
   },
   "outputs": [
    {
     "data": {
      "text/latex": [
       "Quantum object: dims = [[3], [3]], shape = [3, 3], type = oper, isherm = True\\begin{equation*}\\left(\\begin{array}{*{11}c}0.0 & 0.200 & 0.0\\\\0.200 & -3.000 & 0.100\\\\0.0 & 0.100 & 3.000\\\\\\end{array}\\right)\\end{equation*}"
      ],
      "text/plain": [
       "Quantum object: dims = [[3], [3]], shape = [3, 3], type = oper, isherm = True\n",
       "Qobj data =\n",
       "[[ 0.   0.2  0. ]\n",
       " [ 0.2 -3.   0.1]\n",
       " [ 0.   0.1  3. ]]"
      ]
     },
     "execution_count": 58,
     "metadata": {},
     "output_type": "execute_result"
    }
   ],
   "source": [
    "H"
   ]
  },
  {
   "cell_type": "code",
   "execution_count": 35,
   "metadata": {
    "collapsed": false
   },
   "outputs": [
    {
     "data": {
      "text/plain": [
       "9.059999999999993"
      ]
     },
     "execution_count": 35,
     "metadata": {},
     "output_type": "execute_result"
    }
   ],
   "source": [
    "delta_min"
   ]
  },
  {
   "cell_type": "code",
   "execution_count": 34,
   "metadata": {
    "collapsed": false
   },
   "outputs": [
    {
     "data": {
      "text/plain": [
       "0"
      ]
     },
     "execution_count": 34,
     "metadata": {},
     "output_type": "execute_result"
    }
   ],
   "source": [
    "phi"
   ]
  },
  {
   "cell_type": "code",
   "execution_count": 51,
   "metadata": {
    "collapsed": false
   },
   "outputs": [
    {
     "data": {
      "text/latex": [
       "Quantum object: dims = [[3], [3]], shape = [3, 3], type = oper, isherm = False\\begin{equation*}\\left(\\begin{array}{*{11}c}0.0 & 0.0 & 0.0\\\\0.0 & 0.0 & 0.0\\\\0.0 & 2.236 & 0.0\\\\\\end{array}\\right)\\end{equation*}"
      ],
      "text/plain": [
       "Quantum object: dims = [[3], [3]], shape = [3, 3], type = oper, isherm = False\n",
       "Qobj data =\n",
       "[[ 0.          0.          0.        ]\n",
       " [ 0.          0.          0.        ]\n",
       " [ 0.          2.23606798  0.        ]]"
      ]
     },
     "execution_count": 51,
     "metadata": {},
     "output_type": "execute_result"
    }
   ],
   "source": [
    "c1"
   ]
  },
  {
   "cell_type": "code",
   "execution_count": 53,
   "metadata": {
    "collapsed": false
   },
   "outputs": [
    {
     "data": {
      "text/latex": [
       "Quantum object: dims = [[3], [3]], shape = [3, 3], type = oper, isherm = False\\begin{equation*}\\left(\\begin{array}{*{11}c}0.0 & 0.0 & 0.0\\\\0.0 & 0.0 & 0.0\\\\0.0 & 1.0 & 0.0\\\\\\end{array}\\right)\\end{equation*}"
      ],
      "text/plain": [
       "Quantum object: dims = [[3], [3]], shape = [3, 3], type = oper, isherm = False\n",
       "Qobj data =\n",
       "[[ 0.  0.  0.]\n",
       " [ 0.  0.  0.]\n",
       " [ 0.  1.  0.]]"
      ]
     },
     "execution_count": 53,
     "metadata": {},
     "output_type": "execute_result"
    }
   ],
   "source": [
    "ground * excited.dag()"
   ]
  },
  {
   "cell_type": "code",
   "execution_count": null,
   "metadata": {
    "collapsed": true
   },
   "outputs": [],
   "source": []
  }
 ],
 "metadata": {
  "kernelspec": {
   "display_name": "Python 3",
   "language": "python",
   "name": "python3"
  },
  "language_info": {
   "codemirror_mode": {
    "name": "ipython",
    "version": 3
   },
   "file_extension": ".py",
   "mimetype": "text/x-python",
   "name": "python",
   "nbconvert_exporter": "python",
   "pygments_lexer": "ipython3",
   "version": "3.5.0"
  }
 },
 "nbformat": 4,
 "nbformat_minor": 0
}
