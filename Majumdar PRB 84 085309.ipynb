{
 "cells": [
  {
   "cell_type": "code",
   "execution_count": 3,
   "metadata": {
    "collapsed": true
   },
   "outputs": [],
   "source": [
    "import numpy as np\n",
    "from qutip import *\n",
    "import pylab as plt\n",
    "%matplotlib inline"
   ]
  },
  {
   "cell_type": "code",
   "execution_count": 182,
   "metadata": {
    "collapsed": true
   },
   "outputs": [],
   "source": [
    "N = 4                         # number of cavity fock states\n",
    "wc = 1.0 * 2 * np.pi     # cavity and atom frequency\n",
    "g = 20 * 2 * np.pi       # coupling strength\n",
    "kappa = 20*2*np.pi     # cavity dissipation rate\n",
    "\n",
    "\n",
    "gamma = 2*np.pi*1    # atom dissipation rate\n",
    "gamma_r = 2*np.pi*0.5\n",
    "gamma_d = 2*np.pi*0.5\n",
    "\n",
    "delta = 6*kappa\n",
    "wa = wc+delta\n",
    "omega = 2*np.pi * 6\n",
    "wl = wa                     # resonantly driven QD with Laser\n",
    "deltawc = wc-wl\n",
    "deltawa = wa-wl"
   ]
  },
  {
   "cell_type": "code",
   "execution_count": 183,
   "metadata": {
    "collapsed": false
   },
   "outputs": [],
   "source": [
    "# Jaynes-Cummings Hamiltonian\n",
    "a  = tensor(qeye(N), destroy(2))\n",
    "sm = tensor(destroy(N), qeye(2))\n",
    "\n",
    "H = deltawc * a.dag() * a + deltawa * sm.dag() * sm + 1j * g * (a.dag() * sm - a * sm.dag()) + omega * (sm + sm.dag())\n",
    "\n",
    "# collapse operators\n",
    "\n",
    "n=0 #limit approximation\n",
    "c_ops =[np.sqrt(2*kappa)*a,np.sqrt(2*gamma)*sm,np.sqrt(2*gamma_r*n)*spre(sm.dag())*spost(a),np.sqrt(2*gamma_r*(n+1))*spre(sm)*spost(a.dag()),np.sqrt(2*gamma_d)*spre(sm.dag())*spost(sm)]"
   ]
  },
  {
   "cell_type": "code",
   "execution_count": 184,
   "metadata": {
    "collapsed": false
   },
   "outputs": [
    {
     "data": {
      "text/latex": [
       "Quantum object: dims = [[4, 2], [4, 2]], shape = [8, 8], type = oper, isherm = True\\begin{equation*}\\left(\\begin{array}{*{11}c}0.0 & 0.0 & 37.699 & 0.0 & 0.0 & 0.0 & 0.0 & 0.0\\\\0.0 & -753.982 & 125.664j & 37.699 & 0.0 & 0.0 & 0.0 & 0.0\\\\37.699 & -125.664j & 0.0 & 0.0 & 53.315 & 0.0 & 0.0 & 0.0\\\\0.0 & 37.699 & 0.0 & -753.982 & 177.715j & 53.315 & 0.0 & 0.0\\\\0.0 & 0.0 & 53.315 & -177.715j & 0.0 & 0.0 & 65.297 & 0.0\\\\0.0 & 0.0 & 0.0 & 53.315 & 0.0 & -753.982 & 217.656j & 65.297\\\\0.0 & 0.0 & 0.0 & 0.0 & 65.297 & -217.656j & 0.0 & 0.0\\\\0.0 & 0.0 & 0.0 & 0.0 & 0.0 & 65.297 & 0.0 & -753.982\\\\\\end{array}\\right)\\end{equation*}"
      ],
      "text/plain": [
       "Quantum object: dims = [[4, 2], [4, 2]], shape = [8, 8], type = oper, isherm = True\n",
       "Qobj data =\n",
       "[[   0.00000000  +0.j            0.00000000  +0.j           37.69911184  +0.j\n",
       "     0.00000000  +0.j            0.00000000  +0.j            0.00000000  +0.j\n",
       "     0.00000000  +0.j            0.00000000  +0.j        ]\n",
       " [   0.00000000  +0.j         -753.98223686  +0.j\n",
       "     0.00000000+125.66370614j   37.69911184  +0.j            0.00000000  +0.j\n",
       "     0.00000000  +0.j            0.00000000  +0.j            0.00000000  +0.j        ]\n",
       " [  37.69911184  +0.j            0.00000000-125.66370614j\n",
       "     0.00000000  +0.j            0.00000000  +0.j           53.31459526  +0.j\n",
       "     0.00000000  +0.j            0.00000000  +0.j            0.00000000  +0.j        ]\n",
       " [   0.00000000  +0.j           37.69911184  +0.j            0.00000000  +0.j\n",
       "  -753.98223686  +0.j            0.00000000+177.71531753j\n",
       "    53.31459526  +0.j            0.00000000  +0.j            0.00000000  +0.j        ]\n",
       " [   0.00000000  +0.j            0.00000000  +0.j           53.31459526  +0.j\n",
       "     0.00000000-177.71531753j    0.00000000  +0.j            0.00000000  +0.j\n",
       "    65.29677711  +0.j            0.00000000  +0.j        ]\n",
       " [   0.00000000  +0.j            0.00000000  +0.j            0.00000000  +0.j\n",
       "    53.31459526  +0.j            0.00000000  +0.j         -753.98223686  +0.j\n",
       "     0.00000000+217.65592371j   65.29677711  +0.j        ]\n",
       " [   0.00000000  +0.j            0.00000000  +0.j            0.00000000  +0.j\n",
       "     0.00000000  +0.j           65.29677711  +0.j\n",
       "     0.00000000-217.65592371j    0.00000000  +0.j            0.00000000  +0.j        ]\n",
       " [   0.00000000  +0.j            0.00000000  +0.j            0.00000000  +0.j\n",
       "     0.00000000  +0.j            0.00000000  +0.j           65.29677711  +0.j\n",
       "     0.00000000  +0.j         -753.98223686  +0.j        ]]"
      ]
     },
     "execution_count": 184,
     "metadata": {},
     "output_type": "execute_result"
    }
   ],
   "source": [
    "H"
   ]
  },
  {
   "cell_type": "code",
   "execution_count": 185,
   "metadata": {
    "collapsed": false
   },
   "outputs": [],
   "source": [
    "# calculate the power spectrum using spectrum, which internally uses essolve \n",
    "# to solve for the dynamics (by default)\n",
    "#wlist2 = np.linspace(-5, 5, 200000) * 2 * np.pi\n",
    "wlist2 = np.linspace(-8, 8, 200000) * kappa # AMCD\n",
    "spec2 = spectrum(H, wlist2, c_ops, a.dag(), a)"
   ]
  },
  {
   "cell_type": "code",
   "execution_count": 186,
   "metadata": {
    "collapsed": false
   },
   "outputs": [
    {
     "data": {
      "text/plain": [
       "<matplotlib.text.Text at 0x12569d0f0>"
      ]
     },
     "execution_count": 186,
     "metadata": {},
     "output_type": "execute_result"
    },
    {
     "data": {
      "image/png": "[encoded data removed]",
      "text/plain": [
       "<matplotlib.figure.Figure at 0x124b9f908>"
      ]
     },
     "metadata": {},
     "output_type": "display_data"
    }
   ],
   "source": [
    "plt.plot((wlist2 ) / kappa, spec2, 'r', lw=2, label='eseries method')\n",
    "plt.legend()\n",
    "ax = plt.gca()\n",
    "ax.set_xlabel('Frequency')\n",
    "ax.set_ylabel('Power spectrum')\n",
    "ax.set_title('Vacuum Mollow Triplet')\n",
    "#ax.set_xlim(-wlist2[0]/(2*np.pi), wlist2[-1]/(2*np.pi))\n",
    "#plt.show()"
   ]
  },
  {
   "cell_type": "code",
   "execution_count": null,
   "metadata": {
    "collapsed": true
   },
   "outputs": [],
   "source": []
  }
 ],
 "metadata": {
  "kernelspec": {
   "display_name": "Python [qutip]",
   "language": "python",
   "name": "Python [qutip]"
  },
  "language_info": {
   "codemirror_mode": {
    "name": "ipython",
    "version": 3
   },
   "file_extension": ".py",
   "mimetype": "text/x-python",
   "name": "python",
   "nbconvert_exporter": "python",
   "pygments_lexer": "ipython3",
   "version": "3.5.2"
  }
 },
 "nbformat": 4,
 "nbformat_minor": 0
}
