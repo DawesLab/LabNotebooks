{
 "metadata": {
  "name": ""
 },
 "nbformat": 3,
 "nbformat_minor": 0,
 "worksheets": [
  {
   "cells": [
    {
     "cell_type": "code",
     "collapsed": false,
     "input": [
      "%pylab\n",
      "from qutip import *"
     ],
     "language": "python",
     "metadata": {},
     "outputs": [
      {
       "output_type": "stream",
       "stream": "stdout",
       "text": [
        "Using matplotlib backend: MacOSX\n",
        "Populating the interactive namespace from numpy and matplotlib\n"
       ]
      }
     ],
     "prompt_number": 1
    },
    {
     "cell_type": "code",
     "collapsed": false,
     "input": [
      "N=100\n",
      "qmin = -60\n",
      "qmax = 5\n",
      "pmin = -60\n",
      "pmax = 30\n",
      "qvec = linspace(qmin,qmax,200)\n",
      "pvec = linspace(pmin,pmax,200)\n",
      "qdistvac = qfunc(coherent_dm(N,0),qvec,pvec)\n",
      "qdist1 = qfunc(coherent_dm(N,sqrt(10)*exp(1j*0.85*pi)),qvec,pvec)\n",
      "qdist2 = qfunc(coherent_dm(N,sqrt(60)*exp(1j*0.75*pi)),qvec,pvec)"
     ],
     "language": "python",
     "metadata": {},
     "outputs": [],
     "prompt_number": 74
    },
    {
     "cell_type": "code",
     "collapsed": false,
     "input": [
      "imshow(qdistvac+qdist1+qdist2,extent=(qmin,qmax,pmin,pmax),origin='lower')"
     ],
     "language": "python",
     "metadata": {},
     "outputs": [
      {
       "metadata": {},
       "output_type": "pyout",
       "prompt_number": 76,
       "text": [
        "<matplotlib.image.AxesImage at 0x1122e0d50>"
       ]
      }
     ],
     "prompt_number": 76
    },
    {
     "cell_type": "code",
     "collapsed": false,
     "input": [],
     "language": "python",
     "metadata": {},
     "outputs": []
    }
   ],
   "metadata": {}
  }
 ]
}