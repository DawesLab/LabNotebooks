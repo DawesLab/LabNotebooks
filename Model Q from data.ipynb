{
 "cells": [
  {
   "cell_type": "code",
   "execution_count": 4,
   "id": "ff620c2d",
   "metadata": {},
   "outputs": [],
   "source": [
    "import matplotlib.pyplot as plt\n",
    "from qutip import *\n",
    "import numpy as np"
   ]
  },
  {
   "cell_type": "code",
   "execution_count": 8,
   "id": "3132a59d",
   "metadata": {},
   "outputs": [],
   "source": [
    "N=100\n",
    "qmin = -60\n",
    "qmax = 5\n",
    "pmin = -60\n",
    "pmax = 30\n",
    "qvec = np.linspace(qmin,qmax,200)\n",
    "pvec = np.linspace(pmin,pmax,200)\n",
    "qdistvac = qfunc(coherent_dm(N,0),qvec,pvec)\n",
    "qdist1 = qfunc(coherent_dm(N,np.sqrt(10)*np.exp(1j*0.85*np.pi)),qvec,pvec)\n",
    "qdist2 = qfunc(coherent_dm(N,np.sqrt(60)*np.exp(1j*0.75*np.pi)),qvec,pvec)"
   ]
  },
  {
   "cell_type": "code",
   "execution_count": 10,
   "id": "f842d3dd",
   "metadata": {},
   "outputs": [
    {
     "data": {
      "text/plain": [
       "<matplotlib.image.AxesImage at 0x7f9228dc2850>"
      ]
     },
     "execution_count": 10,
     "metadata": {},
     "output_type": "execute_result"
    },
    {
     "data": {
      "image/png": "[encoded data removed]",
      "text/plain": [
       "<Figure size 432x288 with 1 Axes>"
      ]
     },
     "metadata": {
      "needs_background": "light"
     },
     "output_type": "display_data"
    }
   ],
   "source": [
    "plt.imshow(qdistvac+qdist1+qdist2,extent=(qmin,qmax,pmin,pmax),origin='lower')"
   ]
  },
  {
   "cell_type": "code",
   "execution_count": null,
   "id": "0e21c381",
   "metadata": {},
   "outputs": [],
   "source": []
  }
 ],
 "metadata": {
  "kernelspec": {
   "display_name": "Python 3",
   "language": "python",
   "name": "python3"
  },
  "language_info": {
   "codemirror_mode": {
    "name": "ipython",
    "version": 3
   },
   "file_extension": ".py",
   "mimetype": "text/x-python",
   "name": "python",
   "nbconvert_exporter": "python",
   "pygments_lexer": "ipython3",
   "version": "3.7.10"
  }
 },
 "nbformat": 4,
 "nbformat_minor": 1
}
