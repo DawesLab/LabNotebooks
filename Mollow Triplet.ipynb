{
 "cells": [
  {
   "cell_type": "code",
   "execution_count": 6,
   "metadata": {
    "collapsed": true
   },
   "outputs": [],
   "source": [
    "from qutip import *\n",
    "from numpy import pi, linspace, sqrt\n",
    "import matplotlib.pyplot as plt\n",
    "%matplotlib inline"
   ]
  },
  {
   "cell_type": "code",
   "execution_count": 13,
   "metadata": {
    "collapsed": true
   },
   "outputs": [],
   "source": [
    "w1 = 4 * 2 * pi\n",
    "#wd = (4-0.01) * 2 * pi\n",
    "wd = w1 - 0.01*2*pi\n",
    "\n",
    "kappa = 4*10**-3 * 2*pi  # was 1e-3 * 2*pi      \n",
    "E = 0.02*2*pi;\n",
    "\n",
    "wlist = linspace(-0.2* pi * 2, 0.2 * pi * 2, 2000)\n",
    "\n",
    "# Hamiltonian\n",
    "a1 = destroy(2)\n",
    "H = (w1-wd)* a1.dag() * a1 + 0.5*E*(a1.dag() + a1)"
   ]
  },
  {
   "cell_type": "code",
   "execution_count": 14,
   "metadata": {
    "collapsed": false
   },
   "outputs": [
    {
     "data": {
      "text/latex": [
       "Quantum object: dims = [[2], [2]], shape = [2, 2], type = oper, isherm = True\\begin{equation*}\\left(\\begin{array}{*{11}c}0.0 & 0.063\\\\0.063 & 0.063\\\\\\end{array}\\right)\\end{equation*}"
      ],
      "text/plain": [
       "Quantum object: dims = [[2], [2]], shape = [2, 2], type = oper, isherm = True\n",
       "Qobj data =\n",
       "[[ 0.          0.06283185]\n",
       " [ 0.06283185  0.06283185]]"
      ]
     },
     "execution_count": 14,
     "metadata": {},
     "output_type": "execute_result"
    }
   ],
   "source": [
    "H"
   ]
  },
  {
   "cell_type": "code",
   "execution_count": 15,
   "metadata": {
    "collapsed": false
   },
   "outputs": [
    {
     "data": {
      "text/plain": [
       "<matplotlib.text.Text at 0x1134f8c88>"
      ]
     },
     "execution_count": 15,
     "metadata": {},
     "output_type": "execute_result"
    },
    {
     "data": {
      "image/png": "[encoded data removed]",
      "text/plain": [
       "<matplotlib.figure.Figure at 0x112e5c358>"
      ]
     },
     "metadata": {},
     "output_type": "display_data"
    }
   ],
   "source": [
    "      \n",
    "# collapse operators\n",
    "c_op_list = []\n",
    "\n",
    "#n_th_a = 0.5  # original\n",
    "n_th_a = 0.001  # to make it approximately symmetric\n",
    "rate = kappa * (1 + n_th_a)\n",
    "if rate > 0.0:\n",
    "    c_op_list.append(sqrt(rate) * a1)\n",
    "\n",
    "rate = kappa * n_th_a\n",
    "if rate > 0.0:\n",
    "    c_op_list.append(sqrt(rate) * a1.dag())\n",
    "\n",
    "A1 = a1.dag()\n",
    "B1 = a1\n",
    "\n",
    "# calculate the power spectrum\n",
    "spec1 = spectrum(H, wlist, c_op_list, A1, B1)\n",
    "\n",
    "# plot results side-by-side\n",
    "plt.figure(figsize=(20, 10))\n",
    "plt.subplot(2, 2, 1)\n",
    "plt.plot(wlist / (2 * pi), abs(spec1), 'b', lw=2)\n",
    "plt.xlabel('Frequency')\n",
    "plt.ylabel('Power spectrum')\n",
    "plt.title('Spectrum of Qubit 1')"
   ]
  },
  {
   "cell_type": "code",
   "execution_count": null,
   "metadata": {
    "collapsed": true
   },
   "outputs": [],
   "source": []
  }
 ],
 "metadata": {
  "kernelspec": {
   "display_name": "Python [qutip]",
   "language": "python",
   "name": "Python [qutip]"
  },
  "language_info": {
   "codemirror_mode": {
    "name": "ipython",
    "version": 3
   },
   "file_extension": ".py",
   "mimetype": "text/x-python",
   "name": "python",
   "nbconvert_exporter": "python",
   "pygments_lexer": "ipython3",
   "version": "3.5.2"
  }
 },
 "nbformat": 4,
 "nbformat_minor": 0
}
