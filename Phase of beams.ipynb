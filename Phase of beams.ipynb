{
 "metadata": {
  "name": "",
  "signature": "sha256:b9226efbbf7ece2275a73187eeebe5056cd9f59b7ee9e8680065b4700e1c1201"
 },
 "nbformat": 3,
 "nbformat_minor": 0,
 "worksheets": [
  {
   "cells": [
    {
     "cell_type": "markdown",
     "metadata": {},
     "source": [
      "Resources for this:\n",
      "http://ocw.mit.edu/courses/mechanical-engineering/2-71-optics-spring-2009/video-lectures/lecture-16-gratings-amplitude-and-phase-sinusoidal-and-binary/MIT2_71S09_lec16.pdf  - Page 6 on Phase gratings"
     ]
    },
    {
     "cell_type": "code",
     "collapsed": false,
     "input": [
      "import numpy as np\n",
      "%pylab\n",
      "from numpy.fft import fft, fftshift"
     ],
     "language": "python",
     "metadata": {},
     "outputs": [
      {
       "output_type": "stream",
       "stream": "stdout",
       "text": [
        "Using matplotlib backend: MacOSX\n",
        "Populating the interactive namespace from numpy and matplotlib\n"
       ]
      }
     ],
     "prompt_number": 1
    },
    {
     "cell_type": "code",
     "collapsed": false,
     "input": [
      "n = 1.5\n",
      "l = 780e-9\n",
      "k = 2*pi/l\n",
      "x = linspace(-300,300,600)*20e-6\n",
      "L = 5000*l\n",
      "s = 780e-9/10.0\n",
      "m = k*(n-1)*s\n",
      "fieldout = np.exp(1j*m/2.0*sin(2*pi*x/L))"
     ],
     "language": "python",
     "metadata": {},
     "outputs": [],
     "prompt_number": 46
    },
    {
     "cell_type": "code",
     "collapsed": false,
     "input": [
      "plot(fftfreq(600,20e-6),np.abs(fft(fieldout)),\".-\")"
     ],
     "language": "python",
     "metadata": {},
     "outputs": [
      {
       "metadata": {},
       "output_type": "pyout",
       "prompt_number": 48,
       "text": [
        "[<matplotlib.lines.Line2D at 0x10d1ba110>]"
       ]
      }
     ],
     "prompt_number": 48
    },
    {
     "cell_type": "code",
     "collapsed": false,
     "input": [
      "L"
     ],
     "language": "python",
     "metadata": {},
     "outputs": [
      {
       "metadata": {},
       "output_type": "pyout",
       "prompt_number": 45,
       "text": [
        "0.0039000000000000003"
       ]
      }
     ],
     "prompt_number": 45
    },
    {
     "cell_type": "markdown",
     "metadata": {},
     "source": [
      "4 mm grating wavelength... with 1/10 wavelength variation. This is essentially the limit to the flatness of any glass optic."
     ]
    }
   ],
   "metadata": {}
  }
 ]
}