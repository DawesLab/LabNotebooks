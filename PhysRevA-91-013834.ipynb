{
 "cells": [
  {
   "cell_type": "code",
   "execution_count": 1,
   "metadata": {
    "collapsed": false
   },
   "outputs": [],
   "source": [
    "%matplotlib inline\n",
    "import matplotlib.pyplot as plt\n",
    "from pylab import *\n",
    "import numpy as np\n",
    "from qutip import *\n",
    "from scipy import linalg"
   ]
  },
  {
   "cell_type": "code",
   "execution_count": 2,
   "metadata": {
    "collapsed": false
   },
   "outputs": [],
   "source": [
    "#constants\n",
    "hb=6.63*1e-34/(2*np.pi)#Planck constant\n",
    "wl=2*np.pi*500*1e12 #frequency of driven laser\n",
    "Nc =4                   # Number of cavity states\n",
    "Nm1 =10                # Number of mech2 states\n",
    "wm1=2*np.pi*10**6        #mech1 frequency\n",
    "kappa =0.1             # Cavity damping rate   \n",
    "gamma1 =1e-6             # Mech1 damping rate\n",
    "n_th1 = 0    \n",
    "delta=1\n",
    "eta=1e-4\n",
    "g0=1e-4 #optomechanical coupling rate --cavity with mech1\n",
    "plist =np.linspace(0.0001,10,1500) #range of normalized detuning delta"
   ]
  },
  {
   "cell_type": "code",
   "execution_count": 3,
   "metadata": {
    "collapsed": false
   },
   "outputs": [],
   "source": [
    "a= tensor(destroy(Nc), qeye(Nm1))\n",
    "b1 = tensor(qeye(Nc), destroy(Nm1))\n",
    "num_a = a.dag()*a\n",
    "num_b1 = b1.dag()*b1\n",
    "    \n",
    "#quadratures\n",
    "x1 = (a + a.dag()) / np.sqrt(2)\n",
    "y1 = -1j * (a - a.dag()) / np.sqrt(2)\n",
    "q1 = (b1 + b1.dag()) / np.sqrt(2)\n",
    "p1 = -1j * (b1 - b1.dag()) / np.sqrt(2)\n",
    "R=[x1,y1,q1,p1]\n",
    "cc = np.sqrt(kappa)*a #cavity collapse\n",
    "cm1 = np.sqrt(gamma1*(1.0 + n_th1))*b1#mech1 \n",
    "cp1 = np.sqrt(gamma1*n_th1)*b1.dag()#mech1\n",
    "c_ops = [cc,cm1,cp1]\n",
    "En=[]#Entanglement\n",
    "var=[]#position variance for duffing oscillator"
   ]
  },
  {
   "cell_type": "code",
   "execution_count": 4,
   "metadata": {
    "collapsed": false
   },
   "outputs": [],
   "source": [
    "# definition of entanglement with one variable 'delta'\n",
    "for P in plist:\n",
    "    E=np.sqrt(2*0.1*wm1*0.001*P/(hb*wl))/wm1\n",
    "    H =delta*(num_a) + num_b1 - g0*(b1.dag()+b1)*num_a  + E*(a.dag()+a)+eta*(b1+b1.dag())**4\n",
    "    rho_ss= steadystate(H, c_ops)\n",
    "#covariance matrix\n",
    "    varxc=variance(x1,rho_ss)\n",
    "    varpc=variance(y1,rho_ss)\n",
    "    varq1=variance(q1,rho_ss)\n",
    "    varp1=variance(p1,rho_ss)\n",
    "    covxcpc=1/2* expect(x1*y1+y1*x1,rho_ss)-expect(x1,rho_ss)*expect(y1,rho_ss)\n",
    "    covxcq1=1/2* expect(x1*q1+q1*x1,rho_ss)-expect(x1,rho_ss)*expect(q1,rho_ss)\n",
    "    covxcp1=1/2* expect(x1*p1+x1*p1,rho_ss)-expect(x1,rho_ss)*expect(p1,rho_ss)\n",
    "    covpcp1=1/2* expect(p1*y1+y1*p1,rho_ss)-expect(p1,rho_ss)*expect(y1,rho_ss)\n",
    "    covpcq1=1/2* expect(q1*y1+y1*q1,rho_ss)-expect(q1,rho_ss)*expect(y1,rho_ss)\n",
    "    covq1p1=1/2* expect(q1*p1+p1*q1,rho_ss)-expect(q1,rho_ss)*expect(p1,rho_ss)\n",
    "    V=array([[varxc,covxcpc,covxcq1,covxcp1],[covxcpc,varpc,covpcq1,covpcp1],[covxcq1,covpcq1,varq1,covq1p1],[covxcp1,covpcp1,covq1p1,varp1]]).astype('float64')#  change the datatype\n",
    "    var.append(varq1)\n",
    "    def logarithmic_negativity(V):\n",
    "        A = array([[varxc,covxcpc],[covxcpc,varpc]])\n",
    "        B = array([[varq1,covq1p1],[covq1p1,varp1]])\n",
    "        C = array([[covxcq1,covxcp1],[covpcq1,covpcp1]])\n",
    "        sigma = linalg.det(A) +linalg.det(B) - 2*linalg.det(C)\n",
    "        eta = sigma/2 -np.sqrt(sigma**2 - 4 * linalg.det(V))/ 2\n",
    "        if eta < 0.0:\n",
    "            return 0.0\n",
    "        nu = np.sqrt(eta)\n",
    "        lognu = -np.log(2 * nu)\n",
    "        logneg = max(0, lognu)\n",
    "        return logneg\n",
    "    En.append(logarithmic_negativity(V))"
   ]
  },
  {
   "cell_type": "code",
   "execution_count": 5,
   "metadata": {
    "collapsed": false
   },
   "outputs": [
    {
     "data": {
      "image/png": "[encoded data removed]",
      "text/plain": [
       "<matplotlib.figure.Figure at 0x10ce28cc0>"
      ]
     },
     "metadata": {},
     "output_type": "display_data"
    },
    {
     "data": {
      "image/png": "[encoded data removed]",
      "text/plain": [
       "<matplotlib.figure.Figure at 0x10ce87518>"
      ]
     },
     "metadata": {},
     "output_type": "display_data"
    }
   ],
   "source": [
    "fig=figure(1)\n",
    "ax = fig.add_subplot(111)\n",
    "ax.plot(plist,En,'r',lw=2)\n",
    "ylabel('$E_N$')\n",
    "xlabel('$P$')\n",
    "show()\n",
    "fig=figure(2)\n",
    "ax = fig.add_subplot(111)\n",
    "ax.plot(plist,var,'r',lw=2)\n",
    "yticks = [0,0.1, 0.2, 0.3,0.4,0.5,0.6]\n",
    "ax.set_yticks(yticks)\n",
    "plt.xscale('log')\n",
    "ylabel('$b1n$')\n",
    "xlabel('$P$')\n",
    "show()"
   ]
  },
  {
   "cell_type": "code",
   "execution_count": null,
   "metadata": {
    "collapsed": false
   },
   "outputs": [],
   "source": []
  }
 ],
 "metadata": {
  "kernelspec": {
   "display_name": "Python [qutip]",
   "language": "python",
   "name": "Python [qutip]"
  },
  "language_info": {
   "codemirror_mode": {
    "name": "ipython",
    "version": 3
   },
   "file_extension": ".py",
   "mimetype": "text/x-python",
   "name": "python",
   "nbconvert_exporter": "python",
   "pygments_lexer": "ipython3",
   "version": "3.5.2"
  }
 },
 "nbformat": 4,
 "nbformat_minor": 0
}
