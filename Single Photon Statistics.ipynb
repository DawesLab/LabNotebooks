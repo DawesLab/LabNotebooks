{
 "metadata": {
  "name": ""
 },
 "nbformat": 3,
 "nbformat_minor": 0,
 "worksheets": [
  {
   "cells": [
    {
     "cell_type": "markdown",
     "metadata": {},
     "source": [
      "How much LO power can we handle on the CCD?"
     ]
    },
    {
     "cell_type": "code",
     "collapsed": false,
     "input": [
      "photon_eV = 1240/780.0\n",
      "photon_J = photon_eV / 6.24150934E18\n",
      "exposure_time = 20e-6\n",
      "pixels_hit = 200*200\n",
      "saturation_count = 2**16"
     ],
     "language": "python",
     "metadata": {},
     "outputs": [],
     "prompt_number": 46
    },
    {
     "cell_type": "code",
     "collapsed": false,
     "input": [
      "# Power = watts = joules per second\n",
      "power = pixels_hit * saturation_count * photon_J / exposure_time\n",
      "print \"ideal LO beam power = %.2f microwatts\" % (power * 1e6)"
     ],
     "language": "python",
     "metadata": {},
     "outputs": [
      {
       "output_type": "stream",
       "stream": "stdout",
       "text": [
        "ideal LO beam power = 33.38 microwatts\n"
       ]
      }
     ],
     "prompt_number": 47
    },
    {
     "cell_type": "markdown",
     "metadata": {},
     "source": [
      "What attenuation do we then use to get to ~single-photon levels?"
     ]
    },
    {
     "cell_type": "code",
     "collapsed": false,
     "input": [
      "atten = photon_J/(exposure_time * power)\n",
      "print \"attenuation to single-photon exposure = \", atten"
     ],
     "language": "python",
     "metadata": {},
     "outputs": [
      {
       "output_type": "stream",
       "stream": "stdout",
       "text": [
        "attenuation to single-photon exposure =  3.81469726562e-10\n"
       ]
      }
     ],
     "prompt_number": 50
    },
    {
     "cell_type": "code",
     "collapsed": false,
     "input": [],
     "language": "python",
     "metadata": {},
     "outputs": []
    }
   ],
   "metadata": {}
  }
 ]
}