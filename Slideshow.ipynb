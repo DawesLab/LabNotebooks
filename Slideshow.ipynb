{
 "cells": [
  {
   "cell_type": "markdown",
   "metadata": {
    "slideshow": {
     "slide_type": "slide"
    }
   },
   "source": [
    "# Teaching Quantum Mechanics with Python and Jupyter\n",
    "\n",
    "## Andrew MC Dawes\n",
    "### @drdawes \n",
    "### github.com/amcdawes/QMlabs"
   ]
  },
  {
   "cell_type": "code",
   "execution_count": 18,
   "metadata": {
    "collapsed": true,
    "slideshow": {
     "slide_type": "slide"
    }
   },
   "outputs": [],
   "source": [
    "from qutip import *\n",
    "import matplotlib.pyplot as plt\n",
    "import numpy as np\n",
    "%matplotlib inline"
   ]
  },
  {
   "cell_type": "code",
   "execution_count": 6,
   "metadata": {
    "slideshow": {
     "slide_type": "slide"
    }
   },
   "outputs": [
    {
     "data": {
      "text/latex": [
       "Quantum object: dims = [[5], [5]], shape = (5, 5), type = oper, isherm = True\\begin{equation*}\\left(\\begin{array}{*{11}c}0.022 & 0.032 & 0.077 & 0.029 & 0.117\\\\0.032 & 0.047 & 0.113 & 0.042 & 0.171\\\\0.077 & 0.113 & 0.271 & 0.100 & 0.411\\\\0.029 & 0.042 & 0.100 & 0.037 & 0.152\\\\0.117 & 0.171 & 0.411 & 0.152 & 0.623\\\\\\end{array}\\right)\\end{equation*}"
      ],
      "text/plain": [
       "Quantum object: dims = [[5], [5]], shape = (5, 5), type = oper, isherm = True\n",
       "Qobj data =\n",
       "[[ 0.02209443  0.03218325  0.07732171  0.02857714  0.11736783]\n",
       " [ 0.03218325  0.04687885  0.11262855  0.04162611  0.17096064]\n",
       " [ 0.07732171  0.11262855  0.27059516  0.10000861  0.41074063]\n",
       " [ 0.02857714  0.04162611  0.10000861  0.03696194  0.15180463]\n",
       " [ 0.11736783  0.17096064  0.41074063  0.15180463  0.62346961]]"
      ]
     },
     "execution_count": 6,
     "metadata": {},
     "output_type": "execute_result"
    }
   ],
   "source": [
    "coherent_dm(5,2)"
   ]
  },
  {
   "cell_type": "markdown",
   "metadata": {
    "slideshow": {
     "slide_type": "slide"
    }
   },
   "source": [
    "Simulate a spin-1/2 system in an external magnetic field.\n"
   ]
  },
  {
   "cell_type": "code",
   "execution_count": 52,
   "metadata": {
    "slideshow": {
     "slide_type": "slide"
    }
   },
   "outputs": [],
   "source": [
    "omega = 2*np.pi\n",
    "H = 0.707*sigmaz() + 0.707*sigmax()\n",
    "a=1/np.sqrt(2)\n",
    "b=a\n",
    "psi0 = a*basis(2,1) + b*basis(2,0)\n",
    "t = np.linspace(0,10)\n",
    "Sz = 1/2*sigmaz()"
   ]
  },
  {
   "cell_type": "code",
   "execution_count": 55,
   "metadata": {
    "slideshow": {
     "slide_type": "fragment"
    }
   },
   "outputs": [],
   "source": [
    "result1 = sesolve(H,psi0,t,[Sz])"
   ]
  },
  {
   "cell_type": "code",
   "execution_count": 56,
   "metadata": {
    "slideshow": {
     "slide_type": "slide"
    }
   },
   "outputs": [
    {
     "data": {
      "image/png": "[encoded data removed]",
      "text/plain": [
       "<matplotlib.figure.Figure at 0x1100abdd8>"
      ]
     },
     "metadata": {},
     "output_type": "display_data"
    }
   ],
   "source": [
    "for ex in result1.expect:\n",
    "    plt.plot(omega*t/np.pi,ex)"
   ]
  },
  {
   "cell_type": "code",
   "execution_count": null,
   "metadata": {
    "collapsed": true
   },
   "outputs": [],
   "source": []
  },
  {
   "cell_type": "code",
   "execution_count": null,
   "metadata": {
    "collapsed": true
   },
   "outputs": [],
   "source": []
  }
 ],
 "metadata": {
  "celltoolbar": "Slideshow",
  "kernelspec": {
   "display_name": "Python 3",
   "language": "python",
   "name": "python3"
  },
  "language_info": {
   "codemirror_mode": {
    "name": "ipython",
    "version": 3
   },
   "file_extension": ".py",
   "mimetype": "text/x-python",
   "name": "python",
   "nbconvert_exporter": "python",
   "pygments_lexer": "ipython3",
   "version": "3.6.3"
  }
 },
 "nbformat": 4,
 "nbformat_minor": 2
}
