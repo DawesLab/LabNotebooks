{
 "cells": [
  {
   "cell_type": "markdown",
   "metadata": {},
   "source": [
    "# Timescales in QuTiP\n",
    "### Andrew M.C. Dawes — 2016\n",
    "An overview to one frequently asked question about QuTiP.\n",
    "\n",
    "## Introduction\n",
    "QuTiP is a python package, if you are new to QuTiP, you should first read the tutorial materials available. If you have used QuTiP but are unsure about timescale and time units, this document will help clarify these concepts.\n",
    "\n",
    "It is important to note that QuTiP routines do not care what time units you use. There is no *internal* unit of time. Time is defined purely by the units of the other values in your problem, so it is up to you to be careful about units! QuTiP includes a set of solvers for several equations that are relevant to quantum mechanics. Those equations relate various quantities (such as energy and time) and the units of these quantities are constrained only by the equations (i.e. not by QuTiP itself).\n",
    "\n",
    "$$i \\hbar \\frac{d}{dt}\\left|\\psi\\right\\rangle = H\\left|\\psi\\right\\rangle$$\n",
    "\n",
    "## python imports\n",
    "We'll use qutip, numpy, matplotlib according to the following import scheme:"
   ]
  },
  {
   "cell_type": "code",
   "execution_count": 24,
   "metadata": {
    "collapsed": true
   },
   "outputs": [],
   "source": [
    "from qutip import *\n",
    "import numpy as np\n",
    "import matplotlib.pyplot as plt\n",
    "%matplotlib inline"
   ]
  },
  {
   "cell_type": "markdown",
   "metadata": {},
   "source": [
    "It will be useful to define the three components of a spin-1/2 in terms of the Pauli matrices:"
   ]
  },
  {
   "cell_type": "code",
   "execution_count": 164,
   "metadata": {
    "collapsed": true
   },
   "outputs": [],
   "source": [
    "Sx = 0.5 * sigmax()\n",
    "Sy = 0.5 * sigmay()\n",
    "Sz = 0.5 * sigmaz()"
   ]
  },
  {
   "cell_type": "markdown",
   "metadata": {},
   "source": [
    "Now the Hamiltonian of a spin-1/2 system in an external magnetic field is $H = \\boldsymbol{\\omega}_L \\cdot \\boldsymbol{S}$ where $\\boldsymbol{\\omega}_L = -\\gamma B$ is the Larmor frequency of precession. Here we see our first introduction to units in the system. Either by assumption (following convention) or by derivation, we see that the units of the Hamiltonian are angular frequency. In particular, the equation solved by QuTiP is:\n",
    "\n",
    "$$i \\frac{d}{dt}|\\psi\\rangle = \\omega_L S_Z |\\psi\\rangle$$\n",
    "\n",
    "If we make this angular frequency explicit by entering $f = 3$:\n",
    "\n",
    "$$ H = 2 \\pi \\cdot 3 \\cdot S_z$$\n",
    "\n",
    "### Hypothesis\n",
    "We would expect this system to undergo three complete oscillations in one unit of time."
   ]
  },
  {
   "cell_type": "code",
   "execution_count": 165,
   "metadata": {
    "collapsed": false
   },
   "outputs": [],
   "source": [
    "H = 2 * np.pi * 3 * Sz\n",
    "psi0 = 1/np.sqrt(2)*Qobj([[1],[1]])"
   ]
  },
  {
   "cell_type": "code",
   "execution_count": 166,
   "metadata": {
    "collapsed": false
   },
   "outputs": [],
   "source": [
    "times = np.linspace(0,1,50)"
   ]
  },
  {
   "cell_type": "code",
   "execution_count": 167,
   "metadata": {
    "collapsed": false
   },
   "outputs": [],
   "source": [
    "result = mesolve(H, psi0, times, [], [Sx, Sy, Sz])\n",
    "x = result.expect[0]\n",
    "y = result.expect[1]\n",
    "z = result.expect[2]"
   ]
  },
  {
   "cell_type": "code",
   "execution_count": 168,
   "metadata": {
    "collapsed": false
   },
   "outputs": [
    {
     "data": {
      "text/plain": [
       "(-1.2, 1.2)"
      ]
     },
     "execution_count": 168,
     "metadata": {},
     "output_type": "execute_result"
    },
    {
     "data": {
      "image/png": "[encoded data removed]",
      "text/plain": [
       "<matplotlib.figure.Figure at 0x112fdb0b8>"
      ]
     },
     "metadata": {},
     "output_type": "display_data"
    }
   ],
   "source": [
    "plt.plot(times,x)\n",
    "plt.plot(times,y)\n",
    "plt.plot(times,z)\n",
    "\n",
    "plt.ylim(-1.2,1.2)"
   ]
  },
  {
   "cell_type": "markdown",
   "metadata": {},
   "source": [
    "### Conclusion\n",
    "Clearly, the system shows three complete cycles within one time unit. Therefore, time is measured in units of $1/f = 2\\pi/\\omega_L$."
   ]
  },
  {
   "cell_type": "code",
   "execution_count": null,
   "metadata": {
    "collapsed": true
   },
   "outputs": [],
   "source": []
  }
 ],
 "metadata": {
  "anaconda-cloud": {},
  "kernelspec": {
   "display_name": "Python [qutip]",
   "language": "python",
   "name": "Python [qutip]"
  },
  "language_info": {
   "codemirror_mode": {
    "name": "ipython",
    "version": 3
   },
   "file_extension": ".py",
   "mimetype": "text/x-python",
   "name": "python",
   "nbconvert_exporter": "python",
   "pygments_lexer": "ipython3",
   "version": "3.5.2"
  }
 },
 "nbformat": 4,
 "nbformat_minor": 0
}
