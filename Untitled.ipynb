{
 "cells": [
  {
   "cell_type": "code",
   "execution_count": 3,
   "metadata": {
    "collapsed": false
   },
   "outputs": [
    {
     "name": "stdout",
     "output_type": "stream",
     "text": [
      " linear fit  [ 9.43854354 -6.18989527]\n"
     ]
    }
   ],
   "source": [
    "from scipy.optimize import leastsq\n",
    "import numpy as np\n",
    "import matplotlib.pyplot as plt\n",
    "\n",
    "\n",
    "# data provided\n",
    "x=np.array([1.0,2.5,3.5,4.0,1.1,1.8,2.2,3.7])\n",
    "y=np.array([6.008,15.722,27.130,33.772,5.257,9.549,11.098,28.828])\n",
    "# here, create lambda functions for Line, Quadratic fit\n",
    "# tpl is a tuple that contains the parameters of the fit\n",
    "funcLine=lambda tpl,x : tpl[0]*x+tpl[1]\n",
    "# func is going to be a placeholder for funcLine,funcQuad or whatever \n",
    "# function we would like to fit\n",
    "func=funcLine\n",
    "# ErrorFunc is the diference between the func and the y \"experimental\" data\n",
    "ErrorFunc=lambda tpl,x,y: func(tpl,x)-y\n",
    "#tplInitial contains the \"first guess\" of the parameters \n",
    "tplInitial1=(1.0,2.0)\n",
    "# leastsq finds the set of parameters in the tuple tpl that minimizes\n",
    "# ErrorFunc=yfit-yExperimental\n",
    "tplFinal1,success=leastsq(ErrorFunc,tplInitial1[:],args=(x,y))\n",
    "print \" linear fit \",tplFinal1\n",
    "xx1=np.linspace(x.min(),x.max(),50)\n",
    "yy1=func(tplFinal1,xx1)"
   ]
  },
  {
   "cell_type": "code",
   "execution_count": null,
   "metadata": {
    "collapsed": true
   },
   "outputs": [],
   "source": []
  }
 ],
 "metadata": {
  "kernelspec": {
   "display_name": "Python 2",
   "language": "python",
   "name": "python2"
  },
  "language_info": {
   "codemirror_mode": {
    "name": "ipython",
    "version": 2
   },
   "file_extension": ".py",
   "mimetype": "text/x-python",
   "name": "python",
   "nbconvert_exporter": "python",
   "pygments_lexer": "ipython2",
   "version": "2.7.10"
  }
 },
 "nbformat": 4,
 "nbformat_minor": 0
}
