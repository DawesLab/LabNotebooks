{
 "cells": [
  {
   "cell_type": "markdown",
   "id": "83311540",
   "metadata": {},
   "source": [
    "## Water Rocket Model, code developed from examples here:\n",
    "\n",
    "https://towardsdatascience.com/a-simple-method-for-numerical-integration-in-python-579f785d7a93"
   ]
  },
  {
   "cell_type": "code",
   "execution_count": 5,
   "id": "bdfab613",
   "metadata": {},
   "outputs": [],
   "source": [
    "import numpy as np\n",
    "from scipy.integrate import solve_ivp\n",
    "import matplotlib.pyplot as plt"
   ]
  },
  {
   "cell_type": "code",
   "execution_count": 59,
   "id": "1ef0d207",
   "metadata": {},
   "outputs": [],
   "source": [
    "# Model for solve_ivp\n",
    "def model(t, Y):\n",
    "    P = Y[0]\n",
    "    v = Y[1]\n",
    "    h = Y[2]\n",
    "    P0 = 320000 #Pascal\n",
    "    V0 = 0.75 #liter\n",
    "    Vt = 2 #liter\n",
    "    Ae = np.pi*0.01**2\n",
    "    Pa = 101325 #Pascal\n",
    "    rho = 1\n",
    "    D = 0\n",
    "    mr = 0.050 # empty rocket mass\n",
    "    # deal with mass pre and post burnout\n",
    "    if (P0*V0/P > Vt):\n",
    "        M = rho*(Vt - P0*V0/P) + mr\n",
    "    else:\n",
    "        M = mr\n",
    "    g = 9.8\n",
    "\n",
    "    dPdt = -(P**2)/(P0*V0) * Ae * np.sqrt(2*(P-Pa)/rho)\n",
    "    dvdt = (2*Ae*(P-Pa) - D*v*np.abs(v))/M - g\n",
    "    dhdt = v\n",
    "    dYdt = [dPdt, dvdt, dhdt]\n",
    "    return dYdt"
   ]
  },
  {
   "cell_type": "code",
   "execution_count": 64,
   "id": "7d5b81ad",
   "metadata": {},
   "outputs": [],
   "source": [
    "# Initial Conditions\n",
    "Y0 = [320000, 0.0, 0.0]  # [P0, v0, h0]\n",
    "\n",
    "# Time Span of Interest\n",
    "tspan = (0, 1)  # (t0, tf)\n",
    "\n",
    "# Solving ODE\n",
    "sol = solve_ivp(model, tspan, Y0, method='RK45', rtol=1e-10)\n",
    "P_sol, v_sol, h_sol = sol.y\n",
    "time = sol.t"
   ]
  },
  {
   "cell_type": "code",
   "execution_count": 65,
   "id": "8f5bcf04",
   "metadata": {},
   "outputs": [
    {
     "data": {
      "image/png": "[encoded data removed]",
      "text/plain": [
       "<Figure size 432x288 with 1 Axes>"
      ]
     },
     "metadata": {
      "needs_background": "light"
     },
     "output_type": "display_data"
    }
   ],
   "source": [
    "# Plotting Results\n",
    "plt.plot(time, P_sol/1000)\n",
    "#plt.plot(time, v_sol)\n",
    "#plt.plot(time, h_sol)\n",
    "plt.title('Numerical Integration Results')\n",
    "plt.xlabel('Time')\n",
    "plt.ylabel('Solution Values')\n",
    "plt.legend(['P', 'v', 'h'])\n",
    "plt.show()"
   ]
  },
  {
   "cell_type": "code",
   "execution_count": null,
   "id": "8d631e83",
   "metadata": {},
   "outputs": [],
   "source": []
  }
 ],
 "metadata": {
  "kernelspec": {
   "display_name": "Python 3 (ipykernel)",
   "language": "python",
   "name": "python3"
  },
  "language_info": {
   "codemirror_mode": {
    "name": "ipython",
    "version": 3
   },
   "file_extension": ".py",
   "mimetype": "text/x-python",
   "name": "python",
   "nbconvert_exporter": "python",
   "pygments_lexer": "ipython3",
   "version": "3.9.12"
  }
 },
 "nbformat": 4,
 "nbformat_minor": 5
}
