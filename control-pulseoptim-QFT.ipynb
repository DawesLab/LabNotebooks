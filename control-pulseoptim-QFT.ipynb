{
 "cells": [
  {
   "cell_type": "markdown",
   "metadata": {},
   "source": [
    "# Calculation of control fields for QFT gate on two qubits using L-BFGS-B algorithm"
   ]
  },
  {
   "cell_type": "markdown",
   "metadata": {},
   "source": [
    "Alexander Pitchford (agp1@aber.ac.uk)"
   ]
  },
  {
   "cell_type": "markdown",
   "metadata": {},
   "source": [
    "Example to demonstrate using the control library to determine control\n",
    "pulses using the ctrlpulseoptim.create_pulse_optimizer function to \n",
    "generate an Optimizer object, through which the configuration can be\n",
    "manipulated before running the optmisation algorithm. In this case it is\n",
    "demonstrated by modifying the initial ctrl pulses. Also re-uses objects in repeated runs with different total evolution times.\n",
    "\n",
    "The (default) L-BFGS-B algorithm is used to optimise the pulse to\n",
    "minimise the fidelity error, which is equivalent maximising the fidelity\n",
    "to optimal value of 1.\n",
    "\n",
    "The system in this example is two qubits in constant fields in x, y and z\n",
    "with variable independant controls fields in x and y acting on each qubit\n",
    "The target evolution is the QFT gate. The user can experiment with the\n",
    "different:\n",
    " * evolution times - evo_times list values, try anything \n",
    " * phase options - phase_option = SU or PSU\n",
    " *  propagtor computer type prop_type = DIAG or FRECHET\n",
    " *  fidelity measures - fid_type = UNIT or TRACEDIFF\n",
    "\n",
    "The user can experiment with the timeslicing, by means of changing the\n",
    "timeslots durations.\n",
    "Different initial (starting) pulse types can be tried.\n",
    "The initial and final pulses are displayed in a plot\n",
    "\n",
    "This example assumes that the example-control-pulseoptim-Hadamard has already been tried, and hence explanations in that notebook are not repeated here."
   ]
  },
  {
   "cell_type": "code",
   "execution_count": 1,
   "metadata": {},
   "outputs": [],
   "source": [
    "%matplotlib inline\n",
    "import numpy as np\n",
    "import matplotlib.pyplot as plt\n",
    "import datetime"
   ]
  },
  {
   "cell_type": "code",
   "execution_count": 22,
   "metadata": {},
   "outputs": [],
   "source": [
    "from qutip import Qobj, identity, sigmax, sigmay, sigmaz, tensor, mesolve\n",
    "from qutip.qip.algorithms import qft\n",
    "import qutip.logging_utils as logging\n",
    "logger = logging.get_logger()\n",
    "#Set this to None or logging.WARN for 'quiet' execution\n",
    "log_level = logging.INFO\n",
    "#QuTiP control modules\n",
    "import qutip.control.pulseoptim as cpo\n",
    "import qutip.control.pulsegen as pulsegen\n",
    "\n",
    "example_name = 'QFT'"
   ]
  },
  {
   "cell_type": "markdown",
   "metadata": {},
   "source": [
    "### Defining the physics"
   ]
  },
  {
   "cell_type": "markdown",
   "metadata": {},
   "source": [
    "Note here that there are two controls acting on each qubit."
   ]
  },
  {
   "cell_type": "code",
   "execution_count": 3,
   "metadata": {},
   "outputs": [],
   "source": [
    "Sx = sigmax()\n",
    "Sy = sigmay()\n",
    "Sz = sigmaz()\n",
    "Si = 0.5*identity(2)\n",
    "\n",
    "# Drift Hamiltonian\n",
    "H_d = 0.5*(tensor(Sx, Sx) + tensor(Sy, Sy) + tensor(Sz, Sz))\n",
    "# The (four) control Hamiltonians\n",
    "H_c = [tensor(Sx, Si), tensor(Sy, Si), tensor(Si, Sx), tensor(Si, Sy)]\n",
    "n_ctrls = len(H_c)\n",
    "# start point for the gate evolution\n",
    "U_0 = identity(4)\n",
    "# Target for the gate evolution - Quantum Fourier Transform gate\n",
    "U_targ = qft.qft(2)"
   ]
  },
  {
   "cell_type": "markdown",
   "metadata": {},
   "source": [
    "### Defining the time evolution parameters"
   ]
  },
  {
   "cell_type": "markdown",
   "metadata": {},
   "source": [
    "Multiple total evolution times will be tried. Using this approach, the minimum evolution time required to achieve the target fidelity could be determined (iteratively).\n",
    "\n",
    "Note that the timeslot duration dt is fixed, and so the number of timeslots depends on the evo_time"
   ]
  },
  {
   "cell_type": "code",
   "execution_count": 4,
   "metadata": {},
   "outputs": [],
   "source": [
    "# Duration of each timeslot\n",
    "dt = 0.05\n",
    "# List of evolution times to try\n",
    "evo_times = [1, 3, 6]\n",
    "n_evo_times = len(evo_times)\n",
    "evo_time = evo_times[0]\n",
    "n_ts = int(float(evo_time) / dt)\n",
    "#Empty list that will hold the results for each evolution time\n",
    "results = list()"
   ]
  },
  {
   "cell_type": "markdown",
   "metadata": {},
   "source": [
    "### Set the conditions which will cause the pulse optimisation to terminate"
   ]
  },
  {
   "cell_type": "code",
   "execution_count": 5,
   "metadata": {},
   "outputs": [],
   "source": [
    "# Fidelity error target\n",
    "fid_err_targ = 1e-5\n",
    "# Maximum iterations for the optisation algorithm\n",
    "max_iter = 200\n",
    "# Maximum (elapsed) time allowed in seconds\n",
    "max_wall_time = 120\n",
    "# Minimum gradient (sum of gradients squared)\n",
    "# as this tends to 0 -> local minima has been found\n",
    "min_grad = 1e-20"
   ]
  },
  {
   "cell_type": "markdown",
   "metadata": {},
   "source": [
    "### Set the initial pulse type"
   ]
  },
  {
   "cell_type": "markdown",
   "metadata": {},
   "source": [
    "Here the linear initial pulse type is used, simply because it results in smooth final pulses"
   ]
  },
  {
   "cell_type": "code",
   "execution_count": 6,
   "metadata": {},
   "outputs": [],
   "source": [
    "# pulse type alternatives: RND|ZERO|LIN|SINE|SQUARE|SAW|TRIANGLE|\n",
    "p_type = 'LIN'"
   ]
  },
  {
   "cell_type": "markdown",
   "metadata": {},
   "source": [
    "### Give an extension for output files"
   ]
  },
  {
   "cell_type": "code",
   "execution_count": 7,
   "metadata": {},
   "outputs": [],
   "source": [
    "#Set to None to suppress output files\n",
    "f_ext = \"{}_n_ts{}_ptype{}.txt\".format(example_name, n_ts, p_type)"
   ]
  },
  {
   "cell_type": "markdown",
   "metadata": {},
   "source": [
    "### Create the optimiser objects"
   ]
  },
  {
   "cell_type": "markdown",
   "metadata": {},
   "source": [
    "Here is the main difference between this and the Hadamard example. In this case we use a different pulseoptim function that just creates the objects that can be used to set the physics and configure the optimisation algorithm. This gives greater flexibility (shown here by seting different initial pulse parameters for each control) and is also more efficient when running multiple optimisations on the same system."
   ]
  },
  {
   "cell_type": "code",
   "execution_count": 8,
   "metadata": {},
   "outputs": [],
   "source": [
    "optim = cpo.create_pulse_optimizer(H_d, H_c, U_0, U_targ, n_ts, evo_time, \n",
    "                amp_lbound=-5.0, amp_ubound=5.0, \n",
    "                fid_err_targ=fid_err_targ, min_grad=min_grad, \n",
    "                max_iter=max_iter, max_wall_time=max_wall_time, \n",
    "                optim_method='fmin_l_bfgs_b',\n",
    "                method_params={'max_metric_corr':20, 'accuracy_factor':1e8},\n",
    "                dyn_type='UNIT', \n",
    "                fid_params={'phase_option':'PSU'},\n",
    "                init_pulse_type=p_type, \n",
    "                log_level=log_level, gen_stats=True)\n",
    "\n",
    "# **** get handles to the other objects ****\n",
    "optim.test_out_files = 0\n",
    "dyn = optim.dynamics\n",
    "dyn.test_out_files = 0\n",
    "p_gen = optim.pulse_generator\n",
    "                "
   ]
  },
  {
   "cell_type": "markdown",
   "metadata": {},
   "source": [
    "### Optimise the pulse for each of the different evolution times"
   ]
  },
  {
   "cell_type": "markdown",
   "metadata": {},
   "source": [
    "Here a loop is used to perform the optimisation for each of the evo_times given in the list above. The first optimisation is completed using the timeslot parameters passed when the optimisation objects are created. For the subsequent runs, the Dynamics object 'dyn' is used to set the timeslot parameters before the initial pulses are generated and optimisation is completed. Note that using this method, the dyn.initialize_controls method must be called with an array of the initial amplitudes before the optim.run_optimization method is called."
   ]
  },
  {
   "cell_type": "code",
   "execution_count": 9,
   "metadata": {},
   "outputs": [
    {
     "name": "stderr",
     "output_type": "stream",
     "text": [
      "INFO:qutip.control.dynamics:Setting memory optimisations for level 0\n",
      "INFO:qutip.control.dynamics:Internal operator data type choosen to be <class 'numpy.ndarray'>\n",
      "INFO:qutip.control.dynamics:phased dynamics generator caching True\n",
      "INFO:qutip.control.dynamics:propagator gradient caching True\n",
      "INFO:qutip.control.dynamics:eigenvector adjoint caching True\n",
      "INFO:qutip.control.dynamics:use sparse eigen decomp False\n",
      "INFO:qutip.control.optimizer:Optimising pulse(s) using GRAPE with 'fmin_l_bfgs_b' method\n"
     ]
    },
    {
     "name": "stdout",
     "output_type": "stream",
     "text": [
      "Initial amplitudes output to file: ctrl_amps_initial_QFT_n_ts20_ptypeLIN.txt\n",
      "***********************************\n",
      "\n",
      "+++++++++++++++++++++++++++++++++++\n",
      "Starting pulse optimisation for T=1\n",
      "+++++++++++++++++++++++++++++++++++\n",
      "\n"
     ]
    },
    {
     "name": "stderr",
     "output_type": "stream",
     "text": [
      "INFO:qutip.control.dynamics:Setting memory optimisations for level 0\n",
      "INFO:qutip.control.dynamics:Using operator data type <class 'numpy.ndarray'>\n",
      "INFO:qutip.control.dynamics:phased dynamics generator caching True\n",
      "INFO:qutip.control.dynamics:propagator gradient caching True\n",
      "INFO:qutip.control.dynamics:eigenvector adjoint caching True\n",
      "INFO:qutip.control.dynamics:use sparse eigen decomp False\n",
      "INFO:qutip.control.optimizer:Optimising pulse(s) using GRAPE with 'fmin_l_bfgs_b' method\n"
     ]
    },
    {
     "name": "stdout",
     "output_type": "stream",
     "text": [
      "Final amplitudes output to file: ctrl_amps_final_QFT_n_ts20_ptypeLIN.txt\n",
      "\n",
      "------------------------------------\n",
      "---- Control optimisation stats ----\n",
      "**** Timings (HH:MM:SS.US) ****\n",
      "Total wall time elapsed during optimisation: 0:00:00.454918\n",
      "Wall time computing Hamiltonians: 0:00:00.016502 (3.63%)\n",
      "Wall time computing propagators: 0:00:00.349206 (76.76%)\n",
      "Wall time computing forward propagation: 0:00:00.001713 (0.38%)\n",
      "Wall time computing onward propagation: 0:00:00.001689 (0.37%)\n",
      "Wall time computing gradient: 0:00:00.039305 (8.64%)\n",
      "\n",
      "**** Iterations and function calls ****\n",
      "Number of iterations: 60\n",
      "Number of fidelity function calls: 64\n",
      "Number of times fidelity is computed: 64\n",
      "Number of gradient function calls: 64\n",
      "Number of times gradients are computed: 64\n",
      "Number of times timeslot evolution is recomputed: 64\n",
      "\n",
      "**** Control amplitudes ****\n",
      "Number of control amplitude updates: 63\n",
      "Mean number of updates per iteration: 1.05\n",
      "Number of timeslot values changed: 701\n",
      "Mean number of timeslot changes per update: 11.126984126984127\n",
      "Number of amplitude values changed: 1343\n",
      "Mean number of amplitude changes per update: 21.317460317460316\n",
      "------------------------------------\n",
      "Final evolution\n",
      "Quantum object: dims = [[4], [4]], shape = (4, 4), type = oper, isherm = False\n",
      "Qobj data =\n",
      "[[-0.16998421+0.48769402j  0.00937949+0.31030265j -0.78519291+0.0495552j\n",
      "  -0.06609584+0.11632679j]\n",
      " [ 0.01430120+0.29484354j  0.12448164-0.48737042j -0.07997799-0.24264738j\n",
      "   0.76748036+0.07440979j]\n",
      " [-0.79272858+0.02269328j -0.03496912-0.24748526j  0.08419464+0.50446146j\n",
      "   0.04342906-0.21245808j]\n",
      " [-0.03607690+0.12604581j  0.76668361-0.01797591j  0.00951480-0.23255432j\n",
      "  -0.20301010-0.54708215j]]\n",
      "\n",
      "********* Summary *****************\n",
      "Final fidelity error 0.34367999449998043\n",
      "Final gradient normal 0.015892258405385305\n",
      "Terminated due to function converged\n",
      "Number of iterations 60\n",
      "Completed in 0:00:00.454918 HH:MM:SS.US\n",
      "Initial amplitudes output to file: ctrl_amps_initial_QFT_n_ts20_ptypeLIN.txt\n",
      "***********************************\n",
      "\n",
      "+++++++++++++++++++++++++++++++++++\n",
      "Starting pulse optimisation for T=3\n",
      "+++++++++++++++++++++++++++++++++++\n",
      "\n"
     ]
    },
    {
     "name": "stderr",
     "output_type": "stream",
     "text": [
      "INFO:qutip.control.dynamics:Setting memory optimisations for level 0\n",
      "INFO:qutip.control.dynamics:Using operator data type <class 'numpy.ndarray'>\n",
      "INFO:qutip.control.dynamics:phased dynamics generator caching True\n",
      "INFO:qutip.control.dynamics:propagator gradient caching True\n",
      "INFO:qutip.control.dynamics:eigenvector adjoint caching True\n",
      "INFO:qutip.control.dynamics:use sparse eigen decomp False\n",
      "INFO:qutip.control.optimizer:Optimising pulse(s) using GRAPE with 'fmin_l_bfgs_b' method\n"
     ]
    },
    {
     "name": "stdout",
     "output_type": "stream",
     "text": [
      "Final amplitudes output to file: ctrl_amps_final_QFT_n_ts20_ptypeLIN.txt\n",
      "\n",
      "------------------------------------\n",
      "---- Control optimisation stats ----\n",
      "**** Timings (HH:MM:SS.US) ****\n",
      "Total wall time elapsed during optimisation: 0:00:00.383183\n",
      "Wall time computing Hamiltonians: 0:00:00.027763 (7.25%)\n",
      "Wall time computing propagators: 0:00:00.261088 (68.14%)\n",
      "Wall time computing forward propagation: 0:00:00.003145 (0.82%)\n",
      "Wall time computing onward propagation: 0:00:00.003068 (0.80%)\n",
      "Wall time computing gradient: 0:00:00.069547 (18.15%)\n",
      "\n",
      "**** Iterations and function calls ****\n",
      "Number of iterations: 29\n",
      "Number of fidelity function calls: 36\n",
      "Number of times fidelity is computed: 36\n",
      "Number of gradient function calls: 35\n",
      "Number of times gradients are computed: 35\n",
      "Number of times timeslot evolution is recomputed: 36\n",
      "\n",
      "**** Control amplitudes ****\n",
      "Number of control amplitude updates: 35\n",
      "Mean number of updates per iteration: 1.206896551724138\n",
      "Number of timeslot values changed: 2100\n",
      "Mean number of timeslot changes per update: 60.0\n",
      "Number of amplitude values changed: 8390\n",
      "Mean number of amplitude changes per update: 239.71428571428572\n",
      "------------------------------------\n",
      "Final evolution\n",
      "Quantum object: dims = [[4], [4]], shape = (4, 4), type = oper, isherm = False\n",
      "Qobj data =\n",
      "[[-0.18922387+0.46120317j -0.19352353+0.46212201j -0.19278561+0.46360969j\n",
      "  -0.18771204+0.46167283j]\n",
      " [-0.18926712+0.46237894j -0.46052942-0.19175575j  0.19104394-0.46161315j\n",
      "   0.46401084+0.19140406j]\n",
      " [-0.19133929+0.46005139j  0.19127929-0.46261849j -0.19190677+0.46291531j\n",
      "   0.19214148-0.46162888j]\n",
      " [-0.19289196+0.46519277j  0.46053463+0.1934903j   0.19031547-0.45932179j\n",
      "  -0.46156574-0.19135913j]]\n",
      "\n",
      "********* Summary *****************\n",
      "Final fidelity error 9.093450577202233e-06\n",
      "Final gradient normal 0.00021946915666818753\n",
      "Terminated due to Goal achieved\n",
      "Number of iterations 29\n",
      "Completed in 0:00:00.383183 HH:MM:SS.US\n",
      "Initial amplitudes output to file: ctrl_amps_initial_QFT_n_ts20_ptypeLIN.txt\n",
      "***********************************\n",
      "\n",
      "+++++++++++++++++++++++++++++++++++\n",
      "Starting pulse optimisation for T=6\n",
      "+++++++++++++++++++++++++++++++++++\n",
      "\n",
      "Final amplitudes output to file: ctrl_amps_final_QFT_n_ts20_ptypeLIN.txt\n",
      "\n",
      "------------------------------------\n",
      "---- Control optimisation stats ----\n",
      "**** Timings (HH:MM:SS.US) ****\n",
      "Total wall time elapsed during optimisation: 0:00:00.655461\n",
      "Wall time computing Hamiltonians: 0:00:00.049342 (7.53%)\n",
      "Wall time computing propagators: 0:00:00.463723 (70.75%)\n",
      "Wall time computing forward propagation: 0:00:00.005723 (0.87%)\n",
      "Wall time computing onward propagation: 0:00:00.005189 (0.79%)\n",
      "Wall time computing gradient: 0:00:00.114982 (17.54%)\n",
      "\n",
      "**** Iterations and function calls ****\n",
      "Number of iterations: 24\n",
      "Number of fidelity function calls: 30\n",
      "Number of times fidelity is computed: 30\n",
      "Number of gradient function calls: 29\n",
      "Number of times gradients are computed: 29\n",
      "Number of times timeslot evolution is recomputed: 30\n",
      "\n",
      "**** Control amplitudes ****\n",
      "Number of control amplitude updates: 29\n",
      "Mean number of updates per iteration: 1.2083333333333333\n",
      "Number of timeslot values changed: 3480\n",
      "Mean number of timeslot changes per update: 120.0\n",
      "Number of amplitude values changed: 13920\n",
      "Mean number of amplitude changes per update: 480.0\n",
      "------------------------------------\n",
      "Final evolution\n",
      "Quantum object: dims = [[4], [4]], shape = (4, 4), type = oper, isherm = False\n",
      "Qobj data =\n",
      "[[ 0.46207580+0.19122715j  0.46151636+0.19126417j  0.46241052+0.19094127j\n",
      "   0.46213112+0.19102767j]\n",
      " [ 0.46199149+0.19151454j -0.19197958+0.46204899j -0.46180318-0.19115039j\n",
      "   0.19122368-0.46170712j]\n",
      " [ 0.46165031+0.19097801j -0.46193761-0.1917004j   0.46197027+0.19137927j\n",
      "  -0.46218878-0.19133733j]\n",
      " [ 0.46216726+0.19134259j  0.19167781-0.46173526j -0.46181095-0.19132534j\n",
      "  -0.19139753+0.46188943j]]\n",
      "\n",
      "********* Summary *****************\n",
      "Final fidelity error 2.433648936817079e-07\n",
      "Final gradient normal 0.0006194193096207966\n",
      "Terminated due to Goal achieved\n",
      "Number of iterations 24\n",
      "Completed in 0:00:00.655461 HH:MM:SS.US\n"
     ]
    }
   ],
   "source": [
    "for i in range(n_evo_times):\n",
    "    # Generate the tau (duration) and time (cumulative) arrays\n",
    "    # so that it can be used to create the pulse generator\n",
    "    # with matching timeslots\n",
    "    dyn.init_timeslots()\n",
    "    if i > 0:\n",
    "        # Create a new pulse generator for the new dynamics\n",
    "        p_gen = pulsegen.create_pulse_gen(p_type, dyn)\n",
    "        \n",
    "    #Generate different initial pulses for each of the controls\n",
    "    init_amps = np.zeros([n_ts, n_ctrls])\n",
    "    if (p_gen.periodic):\n",
    "        phase_diff = np.pi / n_ctrls\n",
    "        for j in range(n_ctrls):\n",
    "            init_amps[:, j] = p_gen.gen_pulse(start_phase=phase_diff*j)\n",
    "    elif (isinstance(p_gen, pulsegen.PulseGenLinear)):\n",
    "        for j in range(n_ctrls):\n",
    "            p_gen.scaling = float(j) - float(n_ctrls - 1)/2\n",
    "            init_amps[:, j] = p_gen.gen_pulse()\n",
    "    elif (isinstance(p_gen, pulsegen.PulseGenZero)):\n",
    "        for j in range(n_ctrls):\n",
    "            p_gen.offset = sf = float(j) - float(n_ctrls - 1)/2\n",
    "            init_amps[:, j] = p_gen.gen_pulse()\n",
    "    else:\n",
    "        # Should be random pulse\n",
    "        for j in range(n_ctrls):\n",
    "            init_amps[:, j] = p_gen.gen_pulse()\n",
    "    \n",
    "    dyn.initialize_controls(init_amps)\n",
    "    \n",
    "    # Save initial amplitudes to a text file\n",
    "    if f_ext is not None:\n",
    "        pulsefile = \"ctrl_amps_initial_\" + f_ext\n",
    "        dyn.save_amps(pulsefile)\n",
    "        print(\"Initial amplitudes output to file: \" + pulsefile)\n",
    "\n",
    "    print(\"***********************************\")\n",
    "    print(\"\\n+++++++++++++++++++++++++++++++++++\")\n",
    "    print(\"Starting pulse optimisation for T={}\".format(evo_time))\n",
    "    print(\"+++++++++++++++++++++++++++++++++++\\n\")\n",
    "    result = optim.run_optimization()\n",
    "    results.append(result)\n",
    "\n",
    "    # Save final amplitudes to a text file\n",
    "    if f_ext is not None:\n",
    "        pulsefile = \"ctrl_amps_final_\" + f_ext\n",
    "        dyn.save_amps(pulsefile)\n",
    "        print(\"Final amplitudes output to file: \" + pulsefile)\n",
    "    \n",
    "    # Report the results\n",
    "    result.stats.report()\n",
    "    print(\"Final evolution\\n{}\\n\".format(result.evo_full_final))\n",
    "    print(\"********* Summary *****************\")\n",
    "    print(\"Final fidelity error {}\".format(result.fid_err))\n",
    "    print(\"Final gradient normal {}\".format(result.grad_norm_final))\n",
    "    print(\"Terminated due to {}\".format(result.termination_reason))\n",
    "    print(\"Number of iterations {}\".format(result.num_iter))\n",
    "    print(\"Completed in {} HH:MM:SS.US\".format(\n",
    "            datetime.timedelta(seconds=result.wall_time)))\n",
    "    \n",
    "    if i+1 < len(evo_times):\n",
    "        # reconfigure the dynamics for the next evo time\n",
    "        evo_time = evo_times[i+1]\n",
    "        n_ts = int(float(evo_time) / dt)\n",
    "        dyn.tau = None\n",
    "        dyn.evo_time = evo_time\n",
    "        dyn.num_tslots = n_ts"
   ]
  },
  {
   "cell_type": "markdown",
   "metadata": {},
   "source": [
    "### Plot the initial and final amplitudes"
   ]
  },
  {
   "cell_type": "code",
   "execution_count": 10,
   "metadata": {
    "scrolled": false
   },
   "outputs": [
    {
     "data": {
      "image/png": "[encoded data removed]",
      "text/plain": [
       "<matplotlib.figure.Figure at 0x11163d518>"
      ]
     },
     "metadata": {},
     "output_type": "display_data"
    }
   ],
   "source": [
    "fig1 = plt.figure(figsize=(12,8))\n",
    "for i in range(n_evo_times):\n",
    "    #Initial amps\n",
    "    ax1 = fig1.add_subplot(2, n_evo_times, i+1)\n",
    "    ax1.set_title(\"Init amps T={}\".format(evo_times[i]))\n",
    "    # ax1.set_xlabel(\"Time\")\n",
    "    ax1.get_xaxis().set_visible(False)\n",
    "    if i == 0:\n",
    "        ax1.set_ylabel(\"Control amplitude\")\n",
    "    for j in range(n_ctrls):\n",
    "        ax1.step(results[i].time, \n",
    "             np.hstack((results[i].initial_amps[:, j], \n",
    "                        results[i].initial_amps[-1, j])), \n",
    "                 where='post')\n",
    "        \n",
    "    ax2 = fig1.add_subplot(2, n_evo_times, i+n_evo_times+1)\n",
    "    ax2.set_title(\"Final amps T={}\".format(evo_times[i]))\n",
    "    ax2.set_xlabel(\"Time\")\n",
    "    #Optimised amps\n",
    "    if i == 0:\n",
    "        ax2.set_ylabel(\"Control amplitude\")\n",
    "    for j in range(n_ctrls):\n",
    "        ax2.step(results[i].time, \n",
    "             np.hstack((results[i].final_amps[:, j], \n",
    "                        results[i].final_amps[-1, j])), \n",
    "                 where='post')\n",
    "\n",
    "plt.tight_layout()\n",
    "plt.show()"
   ]
  },
  {
   "cell_type": "markdown",
   "metadata": {},
   "source": [
    "### Versions"
   ]
  },
  {
   "cell_type": "code",
   "execution_count": 11,
   "metadata": {},
   "outputs": [
    {
     "data": {
      "text/html": [
       "<table><tr><th>Software</th><th>Version</th></tr><tr><td>QuTiP</td><td>4.2.0</td></tr><tr><td>Numpy</td><td>1.13.3</td></tr><tr><td>SciPy</td><td>1.0.0</td></tr><tr><td>matplotlib</td><td>2.1.0</td></tr><tr><td>Cython</td><td>0.26.1</td></tr><tr><td>Number of CPUs</td><td>2</td></tr><tr><td>BLAS Info</td><td>INTEL MKL</td></tr><tr><td>IPython</td><td>6.2.1</td></tr><tr><td>Python</td><td>3.6.3 |Anaconda custom (64-bit)| (default, Oct  6 2017, 12:04:38) \n",
       "[GCC 4.2.1 Compatible Clang 4.0.1 (tags/RELEASE_401/final)]</td></tr><tr><td>OS</td><td>posix [darwin]</td></tr><tr><td colspan='2'>Thu Apr 19 01:13:32 2018 PDT</td></tr></table>"
      ],
      "text/plain": [
       "<IPython.core.display.HTML object>"
      ]
     },
     "execution_count": 11,
     "metadata": {},
     "output_type": "execute_result"
    }
   ],
   "source": [
    "from qutip.ipynbtools import version_table\n",
    "\n",
    "version_table()"
   ]
  },
  {
   "cell_type": "code",
   "execution_count": 21,
   "metadata": {},
   "outputs": [
    {
     "data": {
      "text/plain": [
       "[<matplotlib.lines.Line2D at 0x11a6e99e8>,\n",
       " <matplotlib.lines.Line2D at 0x11a6e9b00>,\n",
       " <matplotlib.lines.Line2D at 0x11a6e9c50>,\n",
       " <matplotlib.lines.Line2D at 0x11a6e9da0>]"
      ]
     },
     "execution_count": 21,
     "metadata": {},
     "output_type": "execute_result"
    },
    {
     "data": {
      "image/png": "[encoded data removed]",
      "text/plain": [
       "<matplotlib.figure.Figure at 0x11aa6dcc0>"
      ]
     },
     "metadata": {},
     "output_type": "display_data"
    }
   ],
   "source": [
    "plt.plot(results[2].final_amps,\".\")"
   ]
  },
  {
   "cell_type": "code",
   "execution_count": 28,
   "metadata": {},
   "outputs": [
    {
     "ename": "TypeError",
     "evalue": "mesolve() missing 2 required positional arguments: 'rho0' and 'tlist'",
     "output_type": "error",
     "traceback": [
      "\u001b[0;31m---------------------------------------------------------------------------\u001b[0m",
      "\u001b[0;31mTypeError\u001b[0m                                 Traceback (most recent call last)",
      "\u001b[0;32m<ipython-input-28-f004c849e91a>\u001b[0m in \u001b[0;36m<module>\u001b[0;34m()\u001b[0m\n\u001b[1;32m      1\u001b[0m \u001b[0mtlist\u001b[0m \u001b[0;34m=\u001b[0m \u001b[0mnp\u001b[0m\u001b[0;34m.\u001b[0m\u001b[0mlinspace\u001b[0m\u001b[0;34m(\u001b[0m\u001b[0;36m0\u001b[0m\u001b[0;34m,\u001b[0m\u001b[0;36m6\u001b[0m\u001b[0;34m,\u001b[0m\u001b[0mn_ts\u001b[0m\u001b[0;34m)\u001b[0m\u001b[0;34m\u001b[0m\u001b[0m\n\u001b[1;32m      2\u001b[0m \u001b[0mH\u001b[0m \u001b[0;34m=\u001b[0m \u001b[0;34m[\u001b[0m\u001b[0;34m[\u001b[0m\u001b[0mH_d\u001b[0m\u001b[0;34m,\u001b[0m \u001b[0mnp\u001b[0m\u001b[0;34m.\u001b[0m\u001b[0mones\u001b[0m\u001b[0;34m(\u001b[0m\u001b[0mlen\u001b[0m\u001b[0;34m(\u001b[0m\u001b[0mtlist\u001b[0m\u001b[0;34m)\u001b[0m\u001b[0;34m)\u001b[0m\u001b[0;34m]\u001b[0m\u001b[0;34m,\u001b[0m \u001b[0;34m[\u001b[0m\u001b[0mH_c\u001b[0m\u001b[0;34m[\u001b[0m\u001b[0;36m0\u001b[0m\u001b[0;34m]\u001b[0m\u001b[0;34m,\u001b[0m \u001b[0mresults\u001b[0m\u001b[0;34m[\u001b[0m\u001b[0;36m2\u001b[0m\u001b[0;34m]\u001b[0m\u001b[0;34m.\u001b[0m\u001b[0mfinal_amps\u001b[0m\u001b[0;34m[\u001b[0m\u001b[0;36m0\u001b[0m\u001b[0;34m]\u001b[0m\u001b[0;34m]\u001b[0m\u001b[0;34m]\u001b[0m\u001b[0;34m\u001b[0m\u001b[0m\n\u001b[0;32m----> 3\u001b[0;31m \u001b[0msim\u001b[0m \u001b[0;34m=\u001b[0m \u001b[0mmesolve\u001b[0m\u001b[0;34m(\u001b[0m\u001b[0mH\u001b[0m\u001b[0;34m)\u001b[0m\u001b[0;34m\u001b[0m\u001b[0m\n\u001b[0m",
      "\u001b[0;31mTypeError\u001b[0m: mesolve() missing 2 required positional arguments: 'rho0' and 'tlist'"
     ]
    }
   ],
   "source": [
    "tlist = np.linspace(0,6,n_ts)\n",
    "H = [[H_d, np.ones(len(tlist))], [H_c[0], results[2].final_amps[0]]]\n",
    "sim = mesolve(H)"
   ]
  },
  {
   "cell_type": "code",
   "execution_count": 24,
   "metadata": {},
   "outputs": [],
   "source": [
    "mesolve?"
   ]
  },
  {
   "cell_type": "code",
   "execution_count": 25,
   "metadata": {},
   "outputs": [
    {
     "data": {
      "text/plain": [
       "120"
      ]
     },
     "execution_count": 25,
     "metadata": {},
     "output_type": "execute_result"
    }
   ],
   "source": []
  },
  {
   "cell_type": "code",
   "execution_count": null,
   "metadata": {},
   "outputs": [],
   "source": []
  }
 ],
 "metadata": {
  "kernelspec": {
   "display_name": "Python 3",
   "language": "python",
   "name": "python3"
  },
  "language_info": {
   "codemirror_mode": {
    "name": "ipython",
    "version": 3
   },
   "file_extension": ".py",
   "mimetype": "text/x-python",
   "name": "python",
   "nbconvert_exporter": "python",
   "pygments_lexer": "ipython3",
   "version": "3.6.3"
  }
 },
 "nbformat": 4,
 "nbformat_minor": 1
}
