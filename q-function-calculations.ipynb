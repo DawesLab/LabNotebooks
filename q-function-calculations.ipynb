{
 "metadata": {
  "name": ""
 },
 "nbformat": 3,
 "nbformat_minor": 0,
 "worksheets": [
  {
   "cells": [
    {
     "cell_type": "markdown",
     "metadata": {},
     "source": [
      "# $\\langle n \\rangle$ from Q-function\n",
      "Using QuTiP features, we show that the expectation value $\\langle n\\rangle$ can be found from the Q-function by placing the operator in antinormal order: $\\langle n\\rangle = \\hat{a}^\\dagger\\hat{a} = \\hat{a}\\hat{a}^\\dagger - 1$ therefore $\\mathrm{tr}\\{\\hat\\rho\\hat{a}\\hat{a}^\\dagger\\} = \\langle n \\rangle + 1$  and we can use the Q-function to find this expectation value as well:"
     ]
    },
    {
     "cell_type": "markdown",
     "metadata": {},
     "source": [
      "$\\langle \\hat{a}\\hat{a}^\\dagger\\rangle = \\int Q(x,y)\\alpha \\alpha^* dxdy$ where $\\alpha = \\frac{1}{\\sqrt{2}} (x + iy)$\n",
      "\n",
      "this gives:\n",
      "\n",
      "$\\langle n \\rangle = \\frac{1}{2}\\int Q(x,y)(x^2+y^2) dxdy - 1$\n"
     ]
    },
    {
     "cell_type": "code",
     "collapsed": false,
     "input": [
      "%pylab inline\n",
      "from qutip import *\n",
      "from scipy import *"
     ],
     "language": "python",
     "metadata": {},
     "outputs": [
      {
       "output_type": "stream",
       "stream": "stdout",
       "text": [
        "Populating the interactive namespace from numpy and matplotlib\n"
       ]
      }
     ],
     "prompt_number": 1
    },
    {
     "cell_type": "code",
     "collapsed": false,
     "input": [
      "qvec = linspace(-10,10,200)\n",
      "pvec = linspace(-10,10,200)"
     ],
     "language": "python",
     "metadata": {},
     "outputs": [],
     "prompt_number": 2
    },
    {
     "cell_type": "code",
     "collapsed": false,
     "input": [
      "N=50\n",
      "alpha = sqrt(5)  # alpha is sqrt of <n>\n",
      "cdm = coherent_dm(N,alpha)"
     ],
     "language": "python",
     "metadata": {},
     "outputs": [],
     "prompt_number": 3
    },
    {
     "cell_type": "code",
     "collapsed": false,
     "input": [
      "hinton(cdm)"
     ],
     "language": "python",
     "metadata": {},
     "outputs": [
      {
       "metadata": {},
       "output_type": "pyout",
       "prompt_number": 4,
       "text": [
        "<matplotlib.axes.AxesSubplot at 0x106c7ce50>"
       ]
      },
      {
       "metadata": {},
       "output_type": "display_data",
       "png": "[encoded data removed]",
       "text": [
        "<matplotlib.figure.Figure at 0x1037602d0>"
       ]
      }
     ],
     "prompt_number": 4
    },
    {
     "cell_type": "code",
     "collapsed": false,
     "input": [
      "(cdm*destroy(N)*create(N)).tr()  # this is <n> + 1, agrees with our specification of alpha"
     ],
     "language": "python",
     "metadata": {},
     "outputs": [
      {
       "metadata": {},
       "output_type": "pyout",
       "prompt_number": 5,
       "text": [
        "(5.999999999994867+0j)"
       ]
      }
     ],
     "prompt_number": 5
    },
    {
     "cell_type": "code",
     "collapsed": false,
     "input": [
      "qdist = qfunc(cdm,qvec,pvec)"
     ],
     "language": "python",
     "metadata": {},
     "outputs": [],
     "prompt_number": 11
    },
    {
     "cell_type": "code",
     "collapsed": false,
     "input": [
      "imshow(qdist)"
     ],
     "language": "python",
     "metadata": {},
     "outputs": [
      {
       "metadata": {},
       "output_type": "pyout",
       "prompt_number": 12,
       "text": [
        "<matplotlib.image.AxesImage at 0x10a4d5fd0>"
       ]
      },
      {
       "metadata": {},
       "output_type": "display_data",
       "png": "[encoded data removed]",
       "text": [
        "<matplotlib.figure.Figure at 0x10375ce50>"
       ]
      }
     ],
     "prompt_number": 12
    },
    {
     "cell_type": "code",
     "collapsed": false,
     "input": [
      "qdist = qdist/qdist.sum()"
     ],
     "language": "python",
     "metadata": {},
     "outputs": [],
     "prompt_number": 13
    },
    {
     "cell_type": "code",
     "collapsed": false,
     "input": [
      "q, p = meshgrid(qvec,pvec)"
     ],
     "language": "python",
     "metadata": {},
     "outputs": [],
     "prompt_number": 14
    },
    {
     "cell_type": "code",
     "collapsed": false,
     "input": [
      "(qdist*0.5*(q**2+p**2)).sum() - 1"
     ],
     "language": "python",
     "metadata": {},
     "outputs": [
      {
       "metadata": {},
       "output_type": "pyout",
       "prompt_number": 16,
       "text": [
        "4.9999999998669624"
       ]
      }
     ],
     "prompt_number": 16
    },
    {
     "cell_type": "markdown",
     "metadata": {},
     "source": [
      "$\\hat{X} = \\frac{1}{\\sqrt{2}}(\\hat{a} + \\hat{a}^\\dagger)$\n",
      "\n",
      "$\\hat{Y} = \\frac{1}{i\\sqrt{2}}(\\hat{a} - \\hat{a}^\\dagger)$"
     ]
    },
    {
     "cell_type": "code",
     "collapsed": false,
     "input": [
      "X = 1/sqrt(2)*(destroy(N) + create(N))\n",
      "Y = -1j*1/sqrt(2)*(destroy(N) - create(N))  "
     ],
     "language": "python",
     "metadata": {},
     "outputs": [],
     "prompt_number": 17
    },
    {
     "cell_type": "code",
     "collapsed": false,
     "input": [
      "(cdm*0.5*(X**2+Y**2)).tr() - 0.5 # also agrees with our definitions of X and Y"
     ],
     "language": "python",
     "metadata": {},
     "outputs": [
      {
       "metadata": {},
       "output_type": "pyout",
       "prompt_number": 19,
       "text": [
        "(4.999999999994949+0j)"
       ]
      }
     ],
     "prompt_number": 19
    },
    {
     "cell_type": "code",
     "collapsed": false,
     "input": [
      "from qutip.ipynbtools import version_table\n",
      "\n",
      "version_table()"
     ],
     "language": "python",
     "metadata": {},
     "outputs": [
      {
       "html": [
        "<table><tr><th>Software</th><th>Version</th></tr><tr><td>Cython</td><td>0.19.2</td></tr><tr><td>SciPy</td><td>0.13.2</td></tr><tr><td>QuTiP</td><td>2.2.0</td></tr><tr><td>Python</td><td>2.7.6 |Anaconda 1.8.0 (x86_64)| (default, Jan 10 2014, 11:23:15) \n",
        "[GCC 4.0.1 (Apple Inc. build 5493)]</td></tr><tr><td>IPython</td><td>1.1.0</td></tr><tr><td>OS</td><td>posix [darwin]</td></tr><tr><td>Numpy</td><td>1.7.1</td></tr><tr><td>matplotlib</td><td>1.3.1</td></tr><tr><td colspan='2'>Thu Jan 30 14:09:31 2014</td></tr></table>"
       ],
       "metadata": {},
       "output_type": "pyout",
       "prompt_number": 14,
       "text": [
        "<IPython.core.display.HTML at 0x10a9cbe10>"
       ]
      }
     ],
     "prompt_number": 14
    },
    {
     "cell_type": "code",
     "collapsed": false,
     "input": [],
     "language": "python",
     "metadata": {},
     "outputs": []
    }
   ],
   "metadata": {}
  }
 ]
}